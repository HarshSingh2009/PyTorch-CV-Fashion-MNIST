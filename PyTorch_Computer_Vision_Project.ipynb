{
  "nbformat": 4,
  "nbformat_minor": 0,
  "metadata": {
    "colab": {
      "provenance": [],
      "gpuType": "T4"
    },
    "kernelspec": {
      "name": "python3",
      "display_name": "Python 3"
    },
    "language_info": {
      "name": "python"
    },
    "accelerator": "GPU"
  },
  "cells": [
    {
      "cell_type": "markdown",
      "source": [
        "# PyTorch Computer Vision\n",
        "\n",
        "Use Fashion MNIST data to build a PyTorch model having Convolutional Neural Networks !"
      ],
      "metadata": {
        "id": "AvC5puCtm9Zu"
      }
    },
    {
      "cell_type": "markdown",
      "source": [
        "## Computer Vision libraries in PyTorch\n",
        "\n",
        "* `torchvision`: base domain for Computer Vision implementation using PyTorch\n",
        "* `torchvision.datasets`: get different datasets and data loading functions for computer vision here!\n",
        "* `torchvision.models`: get pre-trained computer vision models that you can fine-tune for your own problems!\n",
        "* `torchvision.transform`: functions for manipulating your vision data (images)\n",
        "to be suitable for use with an ML model\n",
        "* `torch.utils.data.Dataset`: Base Dataset class for PyTorch (make your own dataset)\n",
        "* `torch.utils.data.DataLoader`: Creates a Python iterable over a dataset"
      ],
      "metadata": {
        "id": "oFs_0Qp624GV"
      }
    },
    {
      "cell_type": "code",
      "source": [
        "import torch\n",
        "from torch import nn\n",
        "\n",
        "# torchvision\n",
        "import torchvision\n",
        "from torchvision import datasets\n",
        "from torchvision import transforms\n",
        "from torchvision.transforms import ToTensor\n",
        "\n",
        "import numpy as np\n",
        "import matplotlib.pyplot as plt"
      ],
      "metadata": {
        "id": "mj_1Rp6-1q-k"
      },
      "execution_count": 1,
      "outputs": []
    },
    {
      "cell_type": "code",
      "source": [
        "torch.__version__"
      ],
      "metadata": {
        "id": "umdHF10U4jV2",
        "colab": {
          "base_uri": "https://localhost:8080/",
          "height": 35
        },
        "outputId": "c3d773f7-c3a3-454e-e0d0-b9d170602858"
      },
      "execution_count": 2,
      "outputs": [
        {
          "output_type": "execute_result",
          "data": {
            "text/plain": [
              "'2.1.0+cu118'"
            ],
            "application/vnd.google.colaboratory.intrinsic+json": {
              "type": "string"
            }
          },
          "metadata": {},
          "execution_count": 2
        }
      ]
    },
    {
      "cell_type": "code",
      "source": [
        "torchvision.__version__"
      ],
      "metadata": {
        "colab": {
          "base_uri": "https://localhost:8080/",
          "height": 35
        },
        "id": "q5OHQmu54_4g",
        "outputId": "437def67-fc8f-4d30-9372-6a76481fd312"
      },
      "execution_count": 3,
      "outputs": [
        {
          "output_type": "execute_result",
          "data": {
            "text/plain": [
              "'0.16.0+cu118'"
            ],
            "application/vnd.google.colaboratory.intrinsic+json": {
              "type": "string"
            }
          },
          "metadata": {},
          "execution_count": 3
        }
      ]
    },
    {
      "cell_type": "markdown",
      "source": [
        "## Getting a Dataset\n",
        "\n",
        "> Dataset we'll be using Fashion MNIST dataset, which contains gray-scale (28x28) sized images of 10 different piecing of clothing with labels"
      ],
      "metadata": {
        "id": "W6bObI3S5WKY"
      }
    },
    {
      "cell_type": "code",
      "source": [
        "# set up training data\n",
        "train_data = datasets.FashionMNIST(\n",
        "    root=\"data\", # where to download data\n",
        "    train=True, # we need the train data\n",
        "    download=True, # we need to download our data to colab\n",
        "    transform=torchvision.transforms.ToTensor() # how do we  transform our data\n",
        ")\n",
        "\n",
        "# set up testing data\n",
        "test_data = datasets.FashionMNIST(\n",
        "    root='data', # Download into this directory\n",
        "    train=False, # need the testing data\n",
        "    download=True, # download data to colab\n",
        "    transform=ToTensor() # transforms our data to ready to use Tensors\n",
        ")"
      ],
      "metadata": {
        "colab": {
          "base_uri": "https://localhost:8080/"
        },
        "id": "osATq8Vq5Cxb",
        "outputId": "85495c87-0aa8-4df4-b3e4-e99eafcbdafa"
      },
      "execution_count": 4,
      "outputs": [
        {
          "output_type": "stream",
          "name": "stdout",
          "text": [
            "Downloading http://fashion-mnist.s3-website.eu-central-1.amazonaws.com/train-images-idx3-ubyte.gz\n",
            "Downloading http://fashion-mnist.s3-website.eu-central-1.amazonaws.com/train-images-idx3-ubyte.gz to data/FashionMNIST/raw/train-images-idx3-ubyte.gz\n"
          ]
        },
        {
          "output_type": "stream",
          "name": "stderr",
          "text": [
            "100%|██████████| 26421880/26421880 [00:02<00:00, 10848454.23it/s]\n"
          ]
        },
        {
          "output_type": "stream",
          "name": "stdout",
          "text": [
            "Extracting data/FashionMNIST/raw/train-images-idx3-ubyte.gz to data/FashionMNIST/raw\n",
            "\n",
            "Downloading http://fashion-mnist.s3-website.eu-central-1.amazonaws.com/train-labels-idx1-ubyte.gz\n",
            "Downloading http://fashion-mnist.s3-website.eu-central-1.amazonaws.com/train-labels-idx1-ubyte.gz to data/FashionMNIST/raw/train-labels-idx1-ubyte.gz\n"
          ]
        },
        {
          "output_type": "stream",
          "name": "stderr",
          "text": [
            "100%|██████████| 29515/29515 [00:00<00:00, 210076.78it/s]\n"
          ]
        },
        {
          "output_type": "stream",
          "name": "stdout",
          "text": [
            "Extracting data/FashionMNIST/raw/train-labels-idx1-ubyte.gz to data/FashionMNIST/raw\n",
            "\n",
            "Downloading http://fashion-mnist.s3-website.eu-central-1.amazonaws.com/t10k-images-idx3-ubyte.gz\n",
            "Downloading http://fashion-mnist.s3-website.eu-central-1.amazonaws.com/t10k-images-idx3-ubyte.gz to data/FashionMNIST/raw/t10k-images-idx3-ubyte.gz\n"
          ]
        },
        {
          "output_type": "stream",
          "name": "stderr",
          "text": [
            "100%|██████████| 4422102/4422102 [00:01<00:00, 3892977.58it/s]\n"
          ]
        },
        {
          "output_type": "stream",
          "name": "stdout",
          "text": [
            "Extracting data/FashionMNIST/raw/t10k-images-idx3-ubyte.gz to data/FashionMNIST/raw\n",
            "\n",
            "Downloading http://fashion-mnist.s3-website.eu-central-1.amazonaws.com/t10k-labels-idx1-ubyte.gz\n",
            "Downloading http://fashion-mnist.s3-website.eu-central-1.amazonaws.com/t10k-labels-idx1-ubyte.gz to data/FashionMNIST/raw/t10k-labels-idx1-ubyte.gz\n"
          ]
        },
        {
          "output_type": "stream",
          "name": "stderr",
          "text": [
            "100%|██████████| 5148/5148 [00:00<00:00, 22824817.12it/s]"
          ]
        },
        {
          "output_type": "stream",
          "name": "stdout",
          "text": [
            "Extracting data/FashionMNIST/raw/t10k-labels-idx1-ubyte.gz to data/FashionMNIST/raw\n",
            "\n"
          ]
        },
        {
          "output_type": "stream",
          "name": "stderr",
          "text": [
            "\n"
          ]
        }
      ]
    },
    {
      "cell_type": "code",
      "source": [
        "train_data, test_data"
      ],
      "metadata": {
        "colab": {
          "base_uri": "https://localhost:8080/"
        },
        "id": "5E0MQ1Z-8eAH",
        "outputId": "abe3831b-26e1-47a2-a8d9-e8450a798bb6"
      },
      "execution_count": 5,
      "outputs": [
        {
          "output_type": "execute_result",
          "data": {
            "text/plain": [
              "(Dataset FashionMNIST\n",
              "     Number of datapoints: 60000\n",
              "     Root location: data\n",
              "     Split: Train\n",
              "     StandardTransform\n",
              " Transform: ToTensor(),\n",
              " Dataset FashionMNIST\n",
              "     Number of datapoints: 10000\n",
              "     Root location: data\n",
              "     Split: Test\n",
              "     StandardTransform\n",
              " Transform: ToTensor())"
            ]
          },
          "metadata": {},
          "execution_count": 5
        }
      ]
    },
    {
      "cell_type": "code",
      "source": [
        "len(train_data), len(test_data)"
      ],
      "metadata": {
        "colab": {
          "base_uri": "https://localhost:8080/"
        },
        "id": "PFHJwbGZ5CIf",
        "outputId": "ebf0be37-19c4-4253-d40a-4bedb88e78fc"
      },
      "execution_count": 6,
      "outputs": [
        {
          "output_type": "execute_result",
          "data": {
            "text/plain": [
              "(60000, 10000)"
            ]
          },
          "metadata": {},
          "execution_count": 6
        }
      ]
    },
    {
      "cell_type": "code",
      "source": [
        "class_names = train_data.classes\n",
        "class_names"
      ],
      "metadata": {
        "colab": {
          "base_uri": "https://localhost:8080/"
        },
        "id": "BRPywHSV_NhP",
        "outputId": "3df8da0c-3f54-4070-942e-e44f5806fb12"
      },
      "execution_count": 7,
      "outputs": [
        {
          "output_type": "execute_result",
          "data": {
            "text/plain": [
              "['T-shirt/top',\n",
              " 'Trouser',\n",
              " 'Pullover',\n",
              " 'Dress',\n",
              " 'Coat',\n",
              " 'Sandal',\n",
              " 'Shirt',\n",
              " 'Sneaker',\n",
              " 'Bag',\n",
              " 'Ankle boot']"
            ]
          },
          "metadata": {},
          "execution_count": 7
        }
      ]
    },
    {
      "cell_type": "code",
      "source": [
        "# look at first training example\n",
        "image, label = train_data[0]\n",
        "print(f'Image Shape: {image.shape} \\nLabel: {label}')\n",
        "\n",
        "permuted_tensor = torch.permute(image, (1, 2, 0))\n",
        "plt.imshow(permuted_tensor)\n",
        "plt.title(class_names[label])\n",
        "plt.axis('off')"
      ],
      "metadata": {
        "colab": {
          "base_uri": "https://localhost:8080/",
          "height": 480
        },
        "id": "ew6K-Mjh8hyB",
        "outputId": "ccf26fb8-63a3-4fd2-e90e-d80fd21fd222"
      },
      "execution_count": 8,
      "outputs": [
        {
          "output_type": "stream",
          "name": "stdout",
          "text": [
            "Image Shape: torch.Size([1, 28, 28]) \n",
            "Label: 9\n"
          ]
        },
        {
          "output_type": "execute_result",
          "data": {
            "text/plain": [
              "(-0.5, 27.5, 27.5, -0.5)"
            ]
          },
          "metadata": {},
          "execution_count": 8
        },
        {
          "output_type": "display_data",
          "data": {
            "text/plain": [
              "<Figure size 640x480 with 1 Axes>"
            ],
            "image/png": "[encoded data removed]"
          },
          "metadata": {}
        }
      ]
    },
    {
      "cell_type": "code",
      "source": [
        "torch.min(image), torch.max(image)"
      ],
      "metadata": {
        "colab": {
          "base_uri": "https://localhost:8080/"
        },
        "id": "VOP0tg07-jqO",
        "outputId": "45d6a4fb-68a3-402d-fe37-d813d7a5cb5c"
      },
      "execution_count": 9,
      "outputs": [
        {
          "output_type": "execute_result",
          "data": {
            "text/plain": [
              "(tensor(0.), tensor(1.))"
            ]
          },
          "metadata": {},
          "execution_count": 9
        }
      ]
    },
    {
      "cell_type": "markdown",
      "source": [
        "> So our images are in the shape (1, 28, 28) or [Color_channels, Height, Width], and they are also normalized which was done by our Transforming function `torchvision.transformers.ToTensor()`"
      ],
      "metadata": {
        "id": "Wz-DwZYY-pUx"
      }
    },
    {
      "cell_type": "markdown",
      "source": [
        "### Let's randomly view some random images"
      ],
      "metadata": {
        "id": "Jj5s5s6G_ADT"
      }
    },
    {
      "cell_type": "code",
      "source": [
        "# Initialize variables to store indices of each class\n",
        "class_indices = {key: [] for key in range(10)}\n",
        "\n",
        "for idx, (img, label) in enumerate(train_data):\n",
        "    class_indices[label].append(idx)\n",
        "\n",
        "# Set up a subplot with 10 images (1 for each class)\n",
        "fig, axs = plt.subplots(2, 5, figsize=(12, 6))\n",
        "axs = axs.ravel()\n",
        "\n",
        "for i in range(10):\n",
        "    class_img_index = class_indices[i][0]  # Take the first image for each class\n",
        "    img, label = train_data[class_img_index]\n",
        "\n",
        "    # Plot the image\n",
        "    axs[i].imshow(torch.permute(img, [1, 2, 0]))\n",
        "    axs[i].set_title(class_names[label])\n",
        "    axs[i].axis('off')\n",
        "\n",
        "plt.tight_layout()\n",
        "plt.show()"
      ],
      "metadata": {
        "colab": {
          "base_uri": "https://localhost:8080/",
          "height": 448
        },
        "id": "gRkTRRM-AFuD",
        "outputId": "6f6a37ea-11fa-46ad-fb0d-ac7153265b40"
      },
      "execution_count": 10,
      "outputs": [
        {
          "output_type": "display_data",
          "data": {
            "text/plain": [
              "<Figure size 1200x600 with 10 Axes>"
            ],
            "image/png": "[encoded data removed]"
          },
          "metadata": {}
        }
      ]
    },
    {
      "cell_type": "markdown",
      "source": [
        "## Prepare our Data-Loader\n",
        "\n",
        "* Right now, our data is in the form of PyTorch Datasets.\n",
        "* DataLoader turns our dataset into a Python iterable\n",
        "\n",
        "> More specifically, we want to turn our data into mini-batches of size 32, this is because making predictions for 60,000 images all at once for each epoch might be a bit of memory, ram and time-consuming task, therefore we can just turn them into mini-batches of 32, so that our model only looks at 32 images per batch\n",
        "\n",
        "\n",
        ">It will also give our neural network more chanes to update its trainable parameters, and converge to optimium values faster!\n"
      ],
      "metadata": {
        "id": "UIvfFOUbKw91"
      }
    },
    {
      "cell_type": "code",
      "source": [
        "BATCH_SIZE=32"
      ],
      "metadata": {
        "id": "uZHDhX-LMrQN"
      },
      "execution_count": 11,
      "outputs": []
    },
    {
      "cell_type": "code",
      "source": [
        "from torch.utils.data import DataLoader\n",
        "\n",
        "train_dataloader = DataLoader(\n",
        "    dataset=train_data, # pass the train data for batching\n",
        "    batch_size=BATCH_SIZE, # set batch size to 32\n",
        "    shuffle=True # Shuffle our data's order of images and labels!\n",
        ")\n",
        "\n",
        "test_dataloader = DataLoader(\n",
        "    dataset=test_data, # pass test data for batching\n",
        "    batch_size=BATCH_SIZE, # convert data to batches of size 32\n",
        "    shuffle=False # we do not want to shuffle test images\n",
        ")\n",
        "\n",
        "train_dataloader, test_dataloader"
      ],
      "metadata": {
        "colab": {
          "base_uri": "https://localhost:8080/"
        },
        "id": "yVVHh52tHyiq",
        "outputId": "cda35009-360c-470c-a5da-fdf28b398c81"
      },
      "execution_count": 12,
      "outputs": [
        {
          "output_type": "execute_result",
          "data": {
            "text/plain": [
              "(<torch.utils.data.dataloader.DataLoader at 0x78fd4d26f250>,\n",
              " <torch.utils.data.dataloader.DataLoader at 0x78fd4d26fe80>)"
            ]
          },
          "metadata": {},
          "execution_count": 12
        }
      ]
    },
    {
      "cell_type": "code",
      "source": [
        "print(f'Length of our Train Dataloader: {len(train_dataloader)} batches of size {train_dataloader.batch_size}')\n",
        "print(f'Length of our Test Dataloader: {len(test_dataloader)} batches of size {test_dataloader.batch_size}')"
      ],
      "metadata": {
        "colab": {
          "base_uri": "https://localhost:8080/"
        },
        "id": "slSKytonLwLt",
        "outputId": "0c71f6fd-268e-411b-ce46-81438d4c8fa6"
      },
      "execution_count": 13,
      "outputs": [
        {
          "output_type": "stream",
          "name": "stdout",
          "text": [
            "Length of our Train Dataloader: 1875 batches of size 32\n",
            "Length of our Test Dataloader: 313 batches of size 32\n"
          ]
        }
      ]
    },
    {
      "cell_type": "code",
      "source": [
        "# check out a batch of data\n",
        "images_batch, labels_batch = next(iter(train_dataloader))\n",
        "images_batch.shape, labels_batch"
      ],
      "metadata": {
        "colab": {
          "base_uri": "https://localhost:8080/"
        },
        "id": "uggqKlKvOkfM",
        "outputId": "cb96d37b-c799-4dd6-8a35-c37b474a9ad4"
      },
      "execution_count": 14,
      "outputs": [
        {
          "output_type": "execute_result",
          "data": {
            "text/plain": [
              "(torch.Size([32, 1, 28, 28]),\n",
              " tensor([2, 1, 3, 6, 3, 3, 6, 5, 3, 1, 9, 4, 0, 2, 8, 3, 7, 2, 3, 3, 1, 4, 6, 4,\n",
              "         0, 4, 4, 0, 6, 1, 4, 2]))"
            ]
          },
          "metadata": {},
          "execution_count": 14
        }
      ]
    },
    {
      "cell_type": "code",
      "source": [
        "random_idx = torch.randint(0, len(images_batch), (1,))\n",
        "plt.imshow(images_batch[random_idx].squeeze())\n",
        "plt.title(f'{class_names[labels_batch[random_idx]]}')\n",
        "plt.axis(\"off\")"
      ],
      "metadata": {
        "colab": {
          "base_uri": "https://localhost:8080/",
          "height": 445
        },
        "id": "y7S05xTEOv0y",
        "outputId": "46b790c8-f2c1-4e27-e5d9-f2a9b61be426"
      },
      "execution_count": 15,
      "outputs": [
        {
          "output_type": "execute_result",
          "data": {
            "text/plain": [
              "(-0.5, 27.5, 27.5, -0.5)"
            ]
          },
          "metadata": {},
          "execution_count": 15
        },
        {
          "output_type": "display_data",
          "data": {
            "text/plain": [
              "<Figure size 640x480 with 1 Axes>"
            ],
            "image/png": "[encoded data removed]"
          },
          "metadata": {}
        }
      ]
    },
    {
      "cell_type": "markdown",
      "source": [
        "## Model 0: Build a Baseline model\n",
        "\n",
        "> When starting to build a series of Machine Learning modelling experiments, it's best practices to start with a baseline model!!\n",
        "\n",
        "\n",
        "A baseline model is a simple model, you will try and imporve upon with subsequent models/experiments.\n",
        "\n",
        "In other words, **start simply and add complexity when necessary**"
      ],
      "metadata": {
        "id": "z3jImbPjFNf9"
      }
    },
    {
      "cell_type": "code",
      "source": [
        "# Creater a flatten layer\n",
        "flatten_model = nn.Flatten()\n",
        "\n",
        "# Get a single image sample\n",
        "img = train_data[0][0]\n",
        "print(f'Image (without flattening): {img.shape}')\n",
        "\n",
        "# Flatten\n",
        "output = flatten_model(img)\n",
        "\n",
        "print(f'Image (after flattening): {output.shape}')"
      ],
      "metadata": {
        "id": "TUowL94EPZMf",
        "colab": {
          "base_uri": "https://localhost:8080/"
        },
        "outputId": "4fe695e1-553f-48c7-a78f-dc27a12982a8"
      },
      "execution_count": 16,
      "outputs": [
        {
          "output_type": "stream",
          "name": "stdout",
          "text": [
            "Image (without flattening): torch.Size([1, 28, 28])\n",
            "Image (after flattening): torch.Size([1, 784])\n"
          ]
        }
      ]
    },
    {
      "cell_type": "code",
      "source": [
        "# set up device agnostic code\n",
        "device = \"cuda\" if torch.cuda.is_available() else \"cpu\"\n",
        "device"
      ],
      "metadata": {
        "colab": {
          "base_uri": "https://localhost:8080/",
          "height": 35
        },
        "id": "zwKMiBtPIf6t",
        "outputId": "b998e5cc-b122-4cc4-df51-ad8b87e88533"
      },
      "execution_count": 17,
      "outputs": [
        {
          "output_type": "execute_result",
          "data": {
            "text/plain": [
              "'cuda'"
            ],
            "application/vnd.google.colaboratory.intrinsic+json": {
              "type": "string"
            }
          },
          "metadata": {},
          "execution_count": 17
        }
      ]
    },
    {
      "cell_type": "code",
      "source": [
        "from torch import nn\n",
        "\n",
        "class FashionMNISTModelV0(nn.Module):\n",
        "  def __init__(self):\n",
        "    super().__init__()\n",
        "    # create flatten and linear layers\n",
        "    self.flatten_layer = nn.Flatten()\n",
        "    self.linear_stack = nn.Sequential(\n",
        "        nn.Linear(in_features=784, out_features=64),\n",
        "        nn.Linear(in_features=64, out_features=32),\n",
        "        nn.Linear(in_features=32, out_features=10),\n",
        "    )\n",
        "\n",
        "  def forward(self, X:torch.tensor) -> torch.tensor:\n",
        "    X = self.flatten_layer(X)\n",
        "    X = self.linear_stack(X)\n",
        "    return X\n",
        "\n",
        "\n",
        "model_0 = FashionMNISTModelV0().to('cpu')\n",
        "model_0"
      ],
      "metadata": {
        "colab": {
          "base_uri": "https://localhost:8080/"
        },
        "id": "pbBXVON6Gf1m",
        "outputId": "f4ed9df5-d8f6-4049-c89c-a64cb246f2af"
      },
      "execution_count": 18,
      "outputs": [
        {
          "output_type": "execute_result",
          "data": {
            "text/plain": [
              "FashionMNISTModelV0(\n",
              "  (flatten_layer): Flatten(start_dim=1, end_dim=-1)\n",
              "  (linear_stack): Sequential(\n",
              "    (0): Linear(in_features=784, out_features=64, bias=True)\n",
              "    (1): Linear(in_features=64, out_features=32, bias=True)\n",
              "    (2): Linear(in_features=32, out_features=10, bias=True)\n",
              "  )\n",
              ")"
            ]
          },
          "metadata": {},
          "execution_count": 18
        }
      ]
    },
    {
      "cell_type": "code",
      "source": [
        "dummy_x = torch.rand([1, 1, 28, 28])\n",
        "model_0(dummy_x)"
      ],
      "metadata": {
        "colab": {
          "base_uri": "https://localhost:8080/"
        },
        "id": "kG35GWpfIUpv",
        "outputId": "16fd8cdc-1041-43fe-e79f-90fd9ce375b4"
      },
      "execution_count": 19,
      "outputs": [
        {
          "output_type": "execute_result",
          "data": {
            "text/plain": [
              "tensor([[ 0.1620, -0.1947, -0.0684, -0.0485,  0.2129, -0.3147,  0.0404, -0.1286,\n",
              "          0.0443,  0.1405]], grad_fn=<AddmmBackward0>)"
            ]
          },
          "metadata": {},
          "execution_count": 19
        }
      ]
    },
    {
      "cell_type": "markdown",
      "source": [
        "### Picking up a loss function and optimizer"
      ],
      "metadata": {
        "id": "ag3ckVthKdMM"
      }
    },
    {
      "cell_type": "code",
      "source": [
        "# create a loss function for dataset and model\n",
        "loss_fn = torch.nn.CrossEntropyLoss()\n",
        "\n",
        "# Initiate an optimizer\n",
        "optimizer = torch.optim.SGD(params=model_0.parameters(),\n",
        "                            lr=0.1)"
      ],
      "metadata": {
        "id": "dJvTdAapJ0Zq"
      },
      "execution_count": 20,
      "outputs": []
    },
    {
      "cell_type": "code",
      "source": [
        "def accuracy_fn(y_true, y_preds):\n",
        "  correct = torch.eq(y_true, y_preds).sum().item()\n",
        "  acc = correct/len(y_true) * 100\n",
        "  return acc"
      ],
      "metadata": {
        "id": "MggGi8kgK9Ji"
      },
      "execution_count": 21,
      "outputs": []
    },
    {
      "cell_type": "markdown",
      "source": [
        "## Create a function to time our experiments\n",
        "\n",
        "Machine Learning is very experimental,\n",
        "\n",
        "Two of the main things you'll often want to trach are:\n",
        "\n",
        "1. Model's performance (loss and accuracy values)\n",
        "2. How fast it runs\n",
        "\n",
        "Model's Performance and the speed it runs, is usually a trade-off, the bigger the model, more better the performance, but  speed of the model in making predictions decreases!!"
      ],
      "metadata": {
        "id": "XwJDuduuLec8"
      }
    },
    {
      "cell_type": "code",
      "source": [
        "from timeit import default_timer as timer\n",
        "def print_train_time(start: float,\n",
        "                     end: float,\n",
        "                     device: torch.device = None):\n",
        "  \"\"\"Prints differences between start and end time.\"\"\"\n",
        "  total_time = end-start\n",
        "  print(f'Train Time on {device}: {total_time:.3f} secs')\n",
        "  return total_time"
      ],
      "metadata": {
        "id": "3parFTYjLPEy"
      },
      "execution_count": 22,
      "outputs": []
    },
    {
      "cell_type": "code",
      "source": [
        "start_time = timer()\n",
        "## some code here\n",
        "end_time = timer()\n",
        "print_train_time(start=start_time, end=end_time, device='cpu')"
      ],
      "metadata": {
        "colab": {
          "base_uri": "https://localhost:8080/"
        },
        "id": "XVTiItSXMmhN",
        "outputId": "25fc9610-6b4c-4120-c211-b76d5184b497"
      },
      "execution_count": 23,
      "outputs": [
        {
          "output_type": "stream",
          "name": "stdout",
          "text": [
            "Train Time on cpu: 0.000 secs\n"
          ]
        },
        {
          "output_type": "execute_result",
          "data": {
            "text/plain": [
              "4.915099998470396e-05"
            ]
          },
          "metadata": {},
          "execution_count": 23
        }
      ]
    },
    {
      "cell_type": "markdown",
      "source": [
        "## Make Predictions with our un-trained model"
      ],
      "metadata": {
        "id": "7dwrE2MtQPcz"
      }
    },
    {
      "cell_type": "code",
      "source": [
        "dummy_x = torch.rand([1, 1, 28, 28])\n",
        "with torch.inference_mode():\n",
        "  y_logits = model_0(dummy_x)"
      ],
      "metadata": {
        "id": "6VTBou7lQVm5"
      },
      "execution_count": 24,
      "outputs": []
    },
    {
      "cell_type": "code",
      "source": [
        "y_probs = torch.softmax(y_logits, dim=1)\n",
        "y_probs"
      ],
      "metadata": {
        "colab": {
          "base_uri": "https://localhost:8080/"
        },
        "id": "a4rIoDVSQpqS",
        "outputId": "55aeddae-194e-4009-f680-872a78ae24e0"
      },
      "execution_count": 25,
      "outputs": [
        {
          "output_type": "execute_result",
          "data": {
            "text/plain": [
              "tensor([[0.1138, 0.0992, 0.0894, 0.0949, 0.1124, 0.0794, 0.0997, 0.0888, 0.1089,\n",
              "         0.1135]])"
            ]
          },
          "metadata": {},
          "execution_count": 25
        }
      ]
    },
    {
      "cell_type": "code",
      "source": [
        "y_preds = torch.argmax(y_probs, dim=1)\n",
        "y_preds"
      ],
      "metadata": {
        "colab": {
          "base_uri": "https://localhost:8080/"
        },
        "id": "yrfbcn8gQ6C7",
        "outputId": "7cd89b4a-319b-4e58-e648-4af2bb17ed8d"
      },
      "execution_count": 26,
      "outputs": [
        {
          "output_type": "execute_result",
          "data": {
            "text/plain": [
              "tensor([0])"
            ]
          },
          "metadata": {},
          "execution_count": 26
        }
      ]
    },
    {
      "cell_type": "markdown",
      "source": [
        "## Creating our Training and Testing Loop\n",
        "\n",
        "> We will train our model on mini-batches of data\n",
        "\n",
        "Procedures:\n",
        "1. Loop through epochs\n",
        "2. Loop through training batches, perform the training steps and calculate the train loss *per batch*\n",
        "3. Use Gradient descent and Back Propagation\n",
        "4. Same as point 2, with the testing batches\n",
        "5. Print out what's happenin`"
      ],
      "metadata": {
        "id": "w9LwweFNN17b"
      }
    },
    {
      "cell_type": "code",
      "source": [
        "from tqdm import tqdm\n",
        "\n",
        "EPOCHS = 3\n",
        "\n",
        "# start timer\n",
        "start_time_cpu = timer()\n",
        "\n",
        "# Loop through our epochs\n",
        "for epoch in tqdm(range(EPOCHS)):\n",
        "  print(f'Epoch: {epoch} \\n------------')\n",
        "  # set up train loss values\n",
        "  train_loss, train_acc = 0, 0\n",
        "\n",
        "  # set model to train mode\n",
        "  model_0.train()\n",
        "\n",
        "  # Iterate through our batches of train data\n",
        "  for batch, (X, y) in enumerate(train_dataloader):\n",
        "    # forward propagation\n",
        "    y_logits = model_0(X)\n",
        "    y_preds = torch.argmax(torch.softmax(y_logits, dim=1), dim=1)\n",
        "\n",
        "    # calcualte the loss and acc\n",
        "    loss = loss_fn(y_logits, y)\n",
        "    train_loss += loss\n",
        "    train_acc += accuracy_fn(y, y_preds)\n",
        "\n",
        "    # Zero grad - clearing all gradients\n",
        "    optimizer.zero_grad()\n",
        "    # Backpropagation\n",
        "    loss.backward()\n",
        "    # Gradient Descent\n",
        "    optimizer.step()\n",
        "\n",
        "    if batch % 400 == 0:\n",
        "      print(f'Looked at: {batch*len(X)} / {len(train_dataloader.dataset)} images')\n",
        "\n",
        "  # calculate the average loss and accuracy over all the training batches\n",
        "  train_loss /= len(train_dataloader)\n",
        "  train_acc /= len(train_dataloader)\n",
        "\n",
        "  # Testing time\n",
        "  model_0.eval()\n",
        "  with torch.inference_mode():\n",
        "    test_loss, test_acc = 0, 0\n",
        "    for test_X, test_y in test_dataloader:\n",
        "      # Forward propgation\n",
        "      test_logits = model_0(test_X)\n",
        "      test_preds = torch.argmax(torch.softmax(test_logits, dim=1), dim=1)\n",
        "\n",
        "      # calculate the loss and acc\n",
        "      test_loss += loss_fn(test_logits, test_y)\n",
        "      test_acc += accuracy_fn(test_y, test_preds)\n",
        "\n",
        "    # calculate average test loss and acc\n",
        "    test_loss /= len(test_dataloader)\n",
        "    test_acc /= len(test_dataloader)\n",
        "\n",
        "  # Print out what's happenin`\n",
        "  print(f'\\nTrain loss: {train_loss:.5f} | Train acc: {train_acc:.2f}% | Test loss: {test_loss:.5f} | Test acc: {test_acc:.2f}%')\n",
        "\n",
        "\n",
        "# Calculate the training time on cpu\n",
        "end_time_cpu = timer()\n",
        "print_train_time(start=start_time_cpu,\n",
        "                 end=end_time_cpu,\n",
        "                 device=str(next(model_0.parameters()).device))"
      ],
      "metadata": {
        "colab": {
          "base_uri": "https://localhost:8080/"
        },
        "id": "ZL1pBxmlM9-L",
        "outputId": "c12160d9-e490-4798-de46-aad4d765d801"
      },
      "execution_count": 27,
      "outputs": [
        {
          "output_type": "stream",
          "name": "stderr",
          "text": [
            "\r  0%|          | 0/3 [00:00<?, ?it/s]"
          ]
        },
        {
          "output_type": "stream",
          "name": "stdout",
          "text": [
            "Epoch: 0 \n",
            "------------\n",
            "Looked at: 0 / 60000 images\n",
            "Looked at: 12800 / 60000 images\n",
            "Looked at: 25600 / 60000 images\n",
            "Looked at: 38400 / 60000 images\n",
            "Looked at: 51200 / 60000 images\n"
          ]
        },
        {
          "output_type": "stream",
          "name": "stderr",
          "text": [
            "\r 33%|███▎      | 1/3 [00:08<00:17,  8.64s/it]"
          ]
        },
        {
          "output_type": "stream",
          "name": "stdout",
          "text": [
            "\n",
            "Train loss: 0.60242 | Train acc: 78.39% | Test loss: 0.53376 | Test acc: 81.18%\n",
            "Epoch: 1 \n",
            "------------\n",
            "Looked at: 0 / 60000 images\n",
            "Looked at: 12800 / 60000 images\n",
            "Looked at: 25600 / 60000 images\n",
            "Looked at: 38400 / 60000 images\n",
            "Looked at: 51200 / 60000 images\n"
          ]
        },
        {
          "output_type": "stream",
          "name": "stderr",
          "text": [
            "\r 67%|██████▋   | 2/3 [00:17<00:08,  8.89s/it]"
          ]
        },
        {
          "output_type": "stream",
          "name": "stdout",
          "text": [
            "\n",
            "Train loss: 0.48446 | Train acc: 83.08% | Test loss: 0.51717 | Test acc: 80.82%\n",
            "Epoch: 2 \n",
            "------------\n",
            "Looked at: 0 / 60000 images\n",
            "Looked at: 12800 / 60000 images\n",
            "Looked at: 25600 / 60000 images\n",
            "Looked at: 38400 / 60000 images\n",
            "Looked at: 51200 / 60000 images\n"
          ]
        },
        {
          "output_type": "stream",
          "name": "stderr",
          "text": [
            "100%|██████████| 3/3 [00:26<00:00,  8.89s/it]"
          ]
        },
        {
          "output_type": "stream",
          "name": "stdout",
          "text": [
            "\n",
            "Train loss: 0.46224 | Train acc: 83.78% | Test loss: 0.48376 | Test acc: 83.00%\n",
            "Train Time on cpu: 26.684 secs\n"
          ]
        },
        {
          "output_type": "stream",
          "name": "stderr",
          "text": [
            "\n"
          ]
        },
        {
          "output_type": "execute_result",
          "data": {
            "text/plain": [
              "26.68372960299999"
            ]
          },
          "metadata": {},
          "execution_count": 27
        }
      ]
    },
    {
      "cell_type": "markdown",
      "source": [
        "## Make predictions and get model_0 results"
      ],
      "metadata": {
        "id": "kZQyhG5mR9gS"
      }
    },
    {
      "cell_type": "code",
      "source": [
        "!pip install torchmetrics"
      ],
      "metadata": {
        "colab": {
          "base_uri": "https://localhost:8080/"
        },
        "id": "vitc4sAvVISI",
        "outputId": "4f160744-a5a9-4265-c850-e8736d49529a"
      },
      "execution_count": 28,
      "outputs": [
        {
          "output_type": "stream",
          "name": "stdout",
          "text": [
            "Collecting torchmetrics\n",
            "  Downloading torchmetrics-1.2.0-py3-none-any.whl (805 kB)\n",
            "\u001b[2K     \u001b[90m━━━━━━━━━━━━━━━━━━━━━━━━━━━━━━━━━━━━━━━━\u001b[0m \u001b[32m805.2/805.2 kB\u001b[0m \u001b[31m7.1 MB/s\u001b[0m eta \u001b[36m0:00:00\u001b[0m\n",
            "\u001b[?25hRequirement already satisfied: numpy>1.20.0 in /usr/local/lib/python3.10/dist-packages (from torchmetrics) (1.23.5)\n",
            "Requirement already satisfied: torch>=1.8.1 in /usr/local/lib/python3.10/dist-packages (from torchmetrics) (2.1.0+cu118)\n",
            "Collecting lightning-utilities>=0.8.0 (from torchmetrics)\n",
            "  Downloading lightning_utilities-0.9.0-py3-none-any.whl (23 kB)\n",
            "Requirement already satisfied: packaging>=17.1 in /usr/local/lib/python3.10/dist-packages (from lightning-utilities>=0.8.0->torchmetrics) (23.2)\n",
            "Requirement already satisfied: typing-extensions in /usr/local/lib/python3.10/dist-packages (from lightning-utilities>=0.8.0->torchmetrics) (4.5.0)\n",
            "Requirement already satisfied: filelock in /usr/local/lib/python3.10/dist-packages (from torch>=1.8.1->torchmetrics) (3.12.4)\n",
            "Requirement already satisfied: sympy in /usr/local/lib/python3.10/dist-packages (from torch>=1.8.1->torchmetrics) (1.12)\n",
            "Requirement already satisfied: networkx in /usr/local/lib/python3.10/dist-packages (from torch>=1.8.1->torchmetrics) (3.2)\n",
            "Requirement already satisfied: jinja2 in /usr/local/lib/python3.10/dist-packages (from torch>=1.8.1->torchmetrics) (3.1.2)\n",
            "Requirement already satisfied: fsspec in /usr/local/lib/python3.10/dist-packages (from torch>=1.8.1->torchmetrics) (2023.6.0)\n",
            "Requirement already satisfied: triton==2.1.0 in /usr/local/lib/python3.10/dist-packages (from torch>=1.8.1->torchmetrics) (2.1.0)\n",
            "Requirement already satisfied: MarkupSafe>=2.0 in /usr/local/lib/python3.10/dist-packages (from jinja2->torch>=1.8.1->torchmetrics) (2.1.3)\n",
            "Requirement already satisfied: mpmath>=0.19 in /usr/local/lib/python3.10/dist-packages (from sympy->torch>=1.8.1->torchmetrics) (1.3.0)\n",
            "Installing collected packages: lightning-utilities, torchmetrics\n",
            "Successfully installed lightning-utilities-0.9.0 torchmetrics-1.2.0\n"
          ]
        }
      ]
    },
    {
      "cell_type": "code",
      "source": [
        "from torchmetrics import F1Score\n",
        "\n",
        "def eval_model(model: torch.nn.Module,\n",
        "               dataloader: torch.utils.data.DataLoader,\n",
        "               loss_fn=loss_fn,\n",
        "               accuracy_fn=accuracy_fn,\n",
        "               device='cpu'):\n",
        "  \"\"\"Returns a Dictionary containing model type, loss and accuracy of model\n",
        "  over the torch.utils.data.DataLoader dataset that was sent in the function\n",
        "\n",
        "  Args:\n",
        "      model (torch.nn.Module): A trained PyTorch model capable of making multi-class predictions!\n",
        "      dataloader (torch.utils.data.DataLoader): Dataset on which model's accuracy and loss can be calculated and returned.\n",
        "      loss_fn (torch.nn.Module): The loss function of model.\n",
        "      accuracy_fn: An accuracy function to compare model's predictios with true labels and return accuracy of model.\n",
        "\n",
        "  Returns:\n",
        "      (dict): Results of model making predictions on data_loader.\n",
        "  \"\"\"\n",
        "\n",
        "  model.eval()\n",
        "  with torch.inference_mode():\n",
        "    # Initialze loss, acc and f1 value + f1_score detector from torchmetrics\n",
        "    loss, acc, f1 = 0, 0, 0\n",
        "    torchmetric_f1 = F1Score(task=\"multiclass\", num_classes=10, average='macro').to(device)\n",
        "\n",
        "    for X, y in tqdm(dataloader):\n",
        "      X, y = X.to(device), y.to(device)\n",
        "      # Forward propagation\n",
        "      y_logits = model(X)\n",
        "      y_preds = torch.argmax(torch.softmax(y_logits, dim=1), dim=1)\n",
        "\n",
        "      # Calculate the loss, acc, f1\n",
        "      loss += loss_fn(y_logits, y)\n",
        "      acc += accuracy_fn(y, y_preds)\n",
        "      f1 += torchmetric_f1(y_preds, y)\n",
        "\n",
        "\n",
        "    # calculate the average loss\n",
        "    loss /= len(dataloader)\n",
        "    acc /= len(dataloader)\n",
        "    f1 /= len(dataloader)\n",
        "\n",
        "\n",
        "  return {\"model_name\": model.__class__.__name__,\n",
        "          \"model_loss\": loss.item(),\n",
        "          \"model_accuracy\": acc,\n",
        "          \"model_f1_Score\": f1.item()}"
      ],
      "metadata": {
        "id": "j1_Yq-80RFOp"
      },
      "execution_count": 29,
      "outputs": []
    },
    {
      "cell_type": "code",
      "source": [
        "model_0_results = eval_model(model=model_0,\n",
        "                             dataloader=test_dataloader,\n",
        "                             loss_fn=loss_fn,\n",
        "                             accuracy_fn=accuracy_fn)\n",
        "model_0_results"
      ],
      "metadata": {
        "colab": {
          "base_uri": "https://localhost:8080/"
        },
        "id": "CPFBZXs7UrqQ",
        "outputId": "41d4ee4d-046d-4a75-96c1-ace6eadf288a"
      },
      "execution_count": 30,
      "outputs": [
        {
          "output_type": "stream",
          "name": "stderr",
          "text": [
            "100%|██████████| 313/313 [00:01<00:00, 167.71it/s]\n"
          ]
        },
        {
          "output_type": "execute_result",
          "data": {
            "text/plain": [
              "{'model_name': 'FashionMNISTModelV0',\n",
              " 'model_loss': 0.483762264251709,\n",
              " 'model_accuracy': 82.99720447284345,\n",
              " 'model_f1_Score': 0.7948022484779358}"
            ]
          },
          "metadata": {},
          "execution_count": 30
        }
      ]
    },
    {
      "cell_type": "markdown",
      "source": [
        "## Model 1: Build a better model with non-linearity"
      ],
      "metadata": {
        "id": "-VN01tu7WNql"
      }
    },
    {
      "cell_type": "code",
      "source": [
        "# check  if we have device agnostic code\n",
        "device"
      ],
      "metadata": {
        "colab": {
          "base_uri": "https://localhost:8080/",
          "height": 35
        },
        "id": "HdOSaGr7U1Uf",
        "outputId": "690c385e-7eb1-4fa0-d1e9-fc98cbc7bef0"
      },
      "execution_count": 31,
      "outputs": [
        {
          "output_type": "execute_result",
          "data": {
            "text/plain": [
              "'cuda'"
            ],
            "application/vnd.google.colaboratory.intrinsic+json": {
              "type": "string"
            }
          },
          "metadata": {},
          "execution_count": 31
        }
      ]
    },
    {
      "cell_type": "code",
      "source": [
        "class FashionMNISTModelV1(nn.Module):\n",
        "  def __init__(self):\n",
        "    super().__init__()\n",
        "\n",
        "    # create a linear stack of layers with non-linear activations\n",
        "    self.linear_stack = nn.Sequential(\n",
        "        nn.Flatten(),\n",
        "        nn.Linear(in_features=784, out_features=128),\n",
        "        nn.ReLU(),\n",
        "        nn.Linear(in_features=128, out_features=64),\n",
        "        nn.ReLU(),\n",
        "        nn.Linear(in_features=64, out_features=32),\n",
        "        nn.ReLU(),\n",
        "        nn.Linear(in_features=32, out_features=10),\n",
        "    )\n",
        "\n",
        "  def forward(self, X:torch.tensor) -> torch.tensor:\n",
        "    return self.linear_stack(X)\n",
        "\n",
        "model_1 = FashionMNISTModelV1().to(device)\n",
        "model_1, next(model_1.parameters()).device"
      ],
      "metadata": {
        "colab": {
          "base_uri": "https://localhost:8080/"
        },
        "id": "03yXQslgWVqK",
        "outputId": "b0d0324f-2c38-4c39-96f5-4c11295f1742"
      },
      "execution_count": 32,
      "outputs": [
        {
          "output_type": "execute_result",
          "data": {
            "text/plain": [
              "(FashionMNISTModelV1(\n",
              "   (linear_stack): Sequential(\n",
              "     (0): Flatten(start_dim=1, end_dim=-1)\n",
              "     (1): Linear(in_features=784, out_features=128, bias=True)\n",
              "     (2): ReLU()\n",
              "     (3): Linear(in_features=128, out_features=64, bias=True)\n",
              "     (4): ReLU()\n",
              "     (5): Linear(in_features=64, out_features=32, bias=True)\n",
              "     (6): ReLU()\n",
              "     (7): Linear(in_features=32, out_features=10, bias=True)\n",
              "   )\n",
              " ),\n",
              " device(type='cuda', index=0))"
            ]
          },
          "metadata": {},
          "execution_count": 32
        }
      ]
    },
    {
      "cell_type": "markdown",
      "source": [
        "### Set up Loss function and optimizer for out model_1"
      ],
      "metadata": {
        "id": "FZQkKK9Oe9Pn"
      }
    },
    {
      "cell_type": "code",
      "source": [
        "# loss function\n",
        "loss_fn = torch.nn.CrossEntropyLoss()\n",
        "# initialize optimizer\n",
        "optimizer = torch.optim.SGD(params=model_1.parameters(),\n",
        "                            lr=0.1)"
      ],
      "metadata": {
        "id": "3peoty1ceppL"
      },
      "execution_count": 33,
      "outputs": []
    },
    {
      "cell_type": "markdown",
      "source": [
        "### Functionizing our Training and Test Loops"
      ],
      "metadata": {
        "id": "pFsQfraUfhja"
      }
    },
    {
      "cell_type": "code",
      "source": [
        "# Training Loop\n",
        "\n",
        "def train_model_step(model: torch.nn.Module,\n",
        "                     dataloader: torch.utils.data.DataLoader,\n",
        "                     device:str=device,\n",
        "                     loss_fn=loss_fn,\n",
        "                     optimizer=optimizer):\n",
        "  # set model to train mode\n",
        "  model.train()\n",
        "  # set up train loss and acc values for accumulating during training\n",
        "  train_loss, train_acc = 0, 0\n",
        "\n",
        "  # Loop through batches of data\n",
        "  for X, y in dataloader:\n",
        "    X, y = X.to(device), y.to(device)\n",
        "\n",
        "    # Forward propagation\n",
        "    y_logits = model(X)\n",
        "    y_preds = torch.argmax(torch.softmax(y_logits, dim=1), dim=1)\n",
        "\n",
        "    # calculate  & accumulate loss and acc\n",
        "    loss = loss_fn(y_logits, y)\n",
        "\n",
        "    train_loss += loss\n",
        "    train_acc += accuracy_fn(y, y_preds)\n",
        "\n",
        "    # Zero grad - clear all gradients\n",
        "    optimizer.zero_grad()\n",
        "    # Backpropagation\n",
        "    loss.backward()\n",
        "    # Gradient Descent\n",
        "    optimizer.step()\n",
        "\n",
        "  # average of all train loss and accuracy values accumulated\n",
        "  train_loss /= len(dataloader)\n",
        "  train_acc /= len(dataloader)\n",
        "\n",
        "  print(f\"Train loss: {train_loss:.5f} | Train accuracy: {train_acc:.2f}%\")\n",
        "\n",
        "\n",
        "\n",
        "# Testing Loop\n",
        "\n",
        "def test_model_step(model: torch.nn.Module,\n",
        "                    dataloader: torch.utils.data.DataLoader,\n",
        "                    device:str=device,\n",
        "                    loss_fn=loss_fn,\n",
        "                    accuracy_fn=accuracy_fn):\n",
        "  model.eval()\n",
        "  with torch.inference_mode():\n",
        "    test_loss, test_acc = 0, 0\n",
        "    for X, y in dataloader:\n",
        "      X, y = X.to(device), y.to(device)\n",
        "      # forward pass\n",
        "      y_logits = model(X)\n",
        "      y_preds = torch.argmax(torch.softmax(y_logits, dim=1), dim=1)\n",
        "\n",
        "      # add & accumulate loss and acc\n",
        "      test_loss += loss_fn(y_logits, y)\n",
        "      test_acc += accuracy_fn(y, y_preds)\n",
        "\n",
        "    # calculate the average loss and acc\n",
        "    test_loss /= len(dataloader)\n",
        "    test_acc /= len(dataloader)\n",
        "\n",
        "  print(f\"Test loss: {test_loss:.5f} | Test accuracy: {test_acc:.2f}%\")\n"
      ],
      "metadata": {
        "id": "aZJEokZOfgTa"
      },
      "execution_count": 34,
      "outputs": []
    },
    {
      "cell_type": "markdown",
      "source": [
        "### Training our model_1 using training and testing step functions"
      ],
      "metadata": {
        "id": "cMqSzYwIjpCN"
      }
    },
    {
      "cell_type": "code",
      "source": [
        "EPOCHS = 3\n",
        "\n",
        "# Measure time\n",
        "from timeit import default_timer as timer\n",
        "train_time_start_on_gpu = timer()\n",
        "\n",
        "for epoch in range(EPOCHS):\n",
        "  print(f'Epoch: {epoch}')\n",
        "\n",
        "  train_model_step(model=model_1,\n",
        "                   dataloader=train_dataloader,\n",
        "                   device=device,\n",
        "                   loss_fn=loss_fn,\n",
        "                   optimizer=optimizer)\n",
        "\n",
        "  test_model_step(model=model_1,\n",
        "                  dataloader=test_dataloader,\n",
        "                  device=device,\n",
        "                  loss_fn=loss_fn,\n",
        "                  accuracy_fn=accuracy_fn)\n",
        "\n",
        "train_time_end_on_gpu = timer()\n",
        "total_train_time = print_train_time(start=train_time_start_on_gpu,\n",
        "                                    end=train_time_end_on_gpu,\n",
        "                                    device=device)\n",
        "print(total_train_time)"
      ],
      "metadata": {
        "colab": {
          "base_uri": "https://localhost:8080/"
        },
        "id": "qXIjJrUyjPNk",
        "outputId": "74f0bed0-a20a-42b0-eb18-ab0b8e393e61"
      },
      "execution_count": 35,
      "outputs": [
        {
          "output_type": "stream",
          "name": "stdout",
          "text": [
            "Epoch: 0\n",
            "Train loss: 0.68675 | Train accuracy: 74.20%\n",
            "Test loss: 0.47500 | Test accuracy: 82.69%\n",
            "Epoch: 1\n",
            "Train loss: 0.42649 | Train accuracy: 84.44%\n",
            "Test loss: 0.40655 | Test accuracy: 84.79%\n",
            "Epoch: 2\n",
            "Train loss: 0.37821 | Train accuracy: 86.04%\n",
            "Test loss: 0.41076 | Test accuracy: 85.22%\n",
            "Train Time on cuda: 41.635 secs\n",
            "41.63458938599999\n"
          ]
        }
      ]
    },
    {
      "cell_type": "markdown",
      "source": [
        "### Evaluating our model"
      ],
      "metadata": {
        "id": "ILTvBwOSl-8V"
      }
    },
    {
      "cell_type": "code",
      "source": [
        "model_1_results = eval_model(model=model_1,\n",
        "                             dataloader=test_dataloader,\n",
        "                             loss_fn=loss_fn,\n",
        "                             accuracy_fn=accuracy_fn,\n",
        "                             device='cuda')\n",
        "model_1_results"
      ],
      "metadata": {
        "colab": {
          "base_uri": "https://localhost:8080/"
        },
        "id": "EZNx9ZJZkTHD",
        "outputId": "9378954c-816d-4ccf-b33a-f5197ad1ca70"
      },
      "execution_count": 36,
      "outputs": [
        {
          "output_type": "stream",
          "name": "stderr",
          "text": [
            "100%|██████████| 313/313 [00:02<00:00, 156.03it/s]\n"
          ]
        },
        {
          "output_type": "execute_result",
          "data": {
            "text/plain": [
              "{'model_name': 'FashionMNISTModelV1',\n",
              " 'model_loss': 0.41075703501701355,\n",
              " 'model_accuracy': 85.22364217252397,\n",
              " 'model_f1_Score': 0.8222086429595947}"
            ]
          },
          "metadata": {},
          "execution_count": 36
        }
      ]
    },
    {
      "cell_type": "code",
      "source": [
        "# check baseline model results\n",
        "model_0_results"
      ],
      "metadata": {
        "colab": {
          "base_uri": "https://localhost:8080/"
        },
        "id": "ZXq6uw9UmbFr",
        "outputId": "9a62438b-9c17-4059-cfdf-8a3bb1ba3b4a"
      },
      "execution_count": 37,
      "outputs": [
        {
          "output_type": "execute_result",
          "data": {
            "text/plain": [
              "{'model_name': 'FashionMNISTModelV0',\n",
              " 'model_loss': 0.483762264251709,\n",
              " 'model_accuracy': 82.99720447284345,\n",
              " 'model_f1_Score': 0.7948022484779358}"
            ]
          },
          "metadata": {},
          "execution_count": 37
        }
      ]
    },
    {
      "cell_type": "markdown",
      "source": [
        "## Model 2: Building a Convolutional Neural Network (CNN)"
      ],
      "metadata": {
        "id": "TT89tfY6qHzl"
      }
    },
    {
      "cell_type": "code",
      "source": [
        "import torch\n",
        "from torch import nn\n",
        "\n",
        "class FashionMNISTModelV2(nn.Module):\n",
        "  def __init__(self):\n",
        "    super().__init__()\n",
        "    # create a stack of Conv2d, MaxPooling2D, Flatten, Dense, ReLU layers.\n",
        "    self.conv_block1 = nn.Sequential(\n",
        "        nn.Conv2d(in_channels=1,\n",
        "                  out_channels=32,\n",
        "                  kernel_size=(3, 3),\n",
        "                  padding=1,\n",
        "                  stride=1),\n",
        "        nn.ReLU(),\n",
        "        nn.Conv2d(in_channels=32,\n",
        "                  out_channels=32,\n",
        "                  kernel_size=(3, 3),\n",
        "                  padding=1,\n",
        "                  stride=1),\n",
        "        nn.ReLU(),\n",
        "        nn.MaxPool2d(kernel_size=(2, 2), stride=2)\n",
        "    )\n",
        "\n",
        "    self.conv_block2 = nn.Sequential(\n",
        "        nn.Conv2d(in_channels=32, out_channels=32, kernel_size=3, padding=1),\n",
        "        nn.ReLU(),\n",
        "        nn.Conv2d(in_channels=32, out_channels=32, kernel_size=3, padding=1),\n",
        "        nn.ReLU(),\n",
        "        nn.MaxPool2d(kernel_size=2, stride=2)\n",
        "    )\n",
        "\n",
        "    self.classifier = nn.Sequential(\n",
        "        nn.Flatten(),\n",
        "        nn.Linear(in_features=32*7*7, out_features=64),\n",
        "        nn.ReLU(),\n",
        "        nn.Linear(in_features=64, out_features=32),\n",
        "        nn.ReLU(),\n",
        "        nn.Linear(in_features=32, out_features=10),\n",
        "    )\n",
        "\n",
        "  def forward(self, X:torch.tensor) -> torch.tensor:\n",
        "    X = self.conv_block1(X)\n",
        "    # print(f'After Conv Block 1: {X.shape}')\n",
        "    X = self.conv_block2(X)\n",
        "    # print(f'After Conv Block 2: {X.shape}')\n",
        "    X = self.classifier(X)\n",
        "    return X\n"
      ],
      "metadata": {
        "id": "HI4AyB6Qm0xK"
      },
      "execution_count": 38,
      "outputs": []
    },
    {
      "cell_type": "code",
      "source": [
        "model_2 = FashionMNISTModelV2().to(device)\n",
        "model_2"
      ],
      "metadata": {
        "colab": {
          "base_uri": "https://localhost:8080/"
        },
        "id": "45nIHMD0NjHa",
        "outputId": "0fdf236f-a374-40ad-bd2f-e7fe97ecf16f"
      },
      "execution_count": 39,
      "outputs": [
        {
          "output_type": "execute_result",
          "data": {
            "text/plain": [
              "FashionMNISTModelV2(\n",
              "  (conv_block1): Sequential(\n",
              "    (0): Conv2d(1, 32, kernel_size=(3, 3), stride=(1, 1), padding=(1, 1))\n",
              "    (1): ReLU()\n",
              "    (2): Conv2d(32, 32, kernel_size=(3, 3), stride=(1, 1), padding=(1, 1))\n",
              "    (3): ReLU()\n",
              "    (4): MaxPool2d(kernel_size=(2, 2), stride=2, padding=0, dilation=1, ceil_mode=False)\n",
              "  )\n",
              "  (conv_block2): Sequential(\n",
              "    (0): Conv2d(32, 32, kernel_size=(3, 3), stride=(1, 1), padding=(1, 1))\n",
              "    (1): ReLU()\n",
              "    (2): Conv2d(32, 32, kernel_size=(3, 3), stride=(1, 1), padding=(1, 1))\n",
              "    (3): ReLU()\n",
              "    (4): MaxPool2d(kernel_size=2, stride=2, padding=0, dilation=1, ceil_mode=False)\n",
              "  )\n",
              "  (classifier): Sequential(\n",
              "    (0): Flatten(start_dim=1, end_dim=-1)\n",
              "    (1): Linear(in_features=1568, out_features=64, bias=True)\n",
              "    (2): ReLU()\n",
              "    (3): Linear(in_features=64, out_features=32, bias=True)\n",
              "    (4): ReLU()\n",
              "    (5): Linear(in_features=32, out_features=10, bias=True)\n",
              "  )\n",
              ")"
            ]
          },
          "metadata": {},
          "execution_count": 39
        }
      ]
    },
    {
      "cell_type": "code",
      "source": [
        "torch.argmax(torch.softmax(model_2(dummy_x.to(device)), dim=1), dim=1)"
      ],
      "metadata": {
        "colab": {
          "base_uri": "https://localhost:8080/"
        },
        "id": "N_YODreOU7KR",
        "outputId": "4a81069c-d31a-4700-b7e0-9078345df733"
      },
      "execution_count": 40,
      "outputs": [
        {
          "output_type": "execute_result",
          "data": {
            "text/plain": [
              "tensor([2], device='cuda:0')"
            ]
          },
          "metadata": {},
          "execution_count": 40
        }
      ]
    },
    {
      "cell_type": "markdown",
      "source": [
        "### Setting up our Loss function and optimizer for CNN model"
      ],
      "metadata": {
        "id": "2jPrgsnNSKUV"
      }
    },
    {
      "cell_type": "code",
      "source": [
        "# create loss func\n",
        "loss_fn = torch.nn.CrossEntropyLoss()\n",
        "\n",
        "# initiate optimizer\n",
        "optimizer = torch.optim.SGD(params=model_2.parameters(),\n",
        "                            lr=0.1)"
      ],
      "metadata": {
        "id": "BxuKGMdWSCaL"
      },
      "execution_count": 41,
      "outputs": []
    },
    {
      "cell_type": "markdown",
      "source": [
        "### Training Our CNN model"
      ],
      "metadata": {
        "id": "uneDQpciSqts"
      }
    },
    {
      "cell_type": "code",
      "source": [
        "from timeit import default_timer as timer\n",
        "model2_train_start_time = timer()\n",
        "\n",
        "EPOCHS = 3\n",
        "\n",
        "for epoch in range(EPOCHS):\n",
        "  print(f'Epoch: {epoch} \\n-------')\n",
        "\n",
        "  train_model_step(\n",
        "      model=model_2,\n",
        "      dataloader=train_dataloader,\n",
        "      device='cuda',\n",
        "      loss_fn=loss_fn,\n",
        "      optimizer=optimizer\n",
        "  )\n",
        "\n",
        "  test_model_step(\n",
        "      model=model_2,\n",
        "      dataloader=test_dataloader,\n",
        "      device='cuda',\n",
        "      loss_fn=loss_fn,\n",
        "      accuracy_fn=accuracy_fn\n",
        "  )\n",
        "\n",
        "model2_train_end_time = timer()\n",
        "model2_train_time = print_train_time(\n",
        "    start=model2_train_start_time,\n",
        "    end=model2_train_end_time,\n",
        "    device='cuda'\n",
        ")"
      ],
      "metadata": {
        "colab": {
          "base_uri": "https://localhost:8080/"
        },
        "id": "qb1nLNY3TD3V",
        "outputId": "8eb98419-9a34-4a6b-b46d-ad23fb50a58a"
      },
      "execution_count": 42,
      "outputs": [
        {
          "output_type": "stream",
          "name": "stdout",
          "text": [
            "Epoch: 0 \n",
            "-------\n",
            "Train loss: 0.80826 | Train accuracy: 69.30%\n",
            "Test loss: 0.40031 | Test accuracy: 85.16%\n",
            "Epoch: 1 \n",
            "-------\n",
            "Train loss: 0.33956 | Train accuracy: 87.30%\n",
            "Test loss: 0.32216 | Test accuracy: 88.37%\n",
            "Epoch: 2 \n",
            "-------\n",
            "Train loss: 0.27438 | Train accuracy: 89.86%\n",
            "Test loss: 0.27954 | Test accuracy: 90.11%\n",
            "Train Time on cuda: 37.587 secs\n"
          ]
        }
      ]
    },
    {
      "cell_type": "code",
      "source": [
        "# getting model results\n",
        "model_2_results = eval_model(\n",
        "    model=model_2,\n",
        "    dataloader=test_dataloader,\n",
        "    loss_fn=loss_fn,\n",
        "    accuracy_fn=accuracy_fn,\n",
        "    device='cuda'\n",
        ")\n",
        "model_2_results"
      ],
      "metadata": {
        "colab": {
          "base_uri": "https://localhost:8080/"
        },
        "id": "Y-YZqkmQWw-o",
        "outputId": "f5113de3-14f5-43b4-e8e2-07434e87d345"
      },
      "execution_count": 43,
      "outputs": [
        {
          "output_type": "stream",
          "name": "stderr",
          "text": [
            "100%|██████████| 313/313 [00:01<00:00, 199.29it/s]\n"
          ]
        },
        {
          "output_type": "execute_result",
          "data": {
            "text/plain": [
              "{'model_name': 'FashionMNISTModelV2',\n",
              " 'model_loss': 0.2795449197292328,\n",
              " 'model_accuracy': 90.10583067092652,\n",
              " 'model_f1_Score': 0.8782147765159607}"
            ]
          },
          "metadata": {},
          "execution_count": 43
        }
      ]
    },
    {
      "cell_type": "markdown",
      "source": [
        "## Compare model results and training time\n",
        "\n",
        "Create a `pd.DataFrame()` out of our model result dicitionaries"
      ],
      "metadata": {
        "id": "j308fgBVX9GZ"
      }
    },
    {
      "cell_type": "code",
      "source": [
        "import pandas as pd\n",
        "compare_results = pd.DataFrame([model_0_results,\n",
        "                                model_1_results,\n",
        "                                model_2_results])\n",
        "compare_results"
      ],
      "metadata": {
        "colab": {
          "base_uri": "https://localhost:8080/",
          "height": 143
        },
        "id": "9o3dd67lXTAU",
        "outputId": "1641c64d-128d-470b-9c7e-660b448f25a8"
      },
      "execution_count": 44,
      "outputs": [
        {
          "output_type": "execute_result",
          "data": {
            "text/plain": [
              "            model_name  model_loss  model_accuracy  model_f1_Score\n",
              "0  FashionMNISTModelV0    0.483762       82.997204        0.794802\n",
              "1  FashionMNISTModelV1    0.410757       85.223642        0.822209\n",
              "2  FashionMNISTModelV2    0.279545       90.105831        0.878215"
            ],
            "text/html": [
              "\n",
              "  <div id=\"df-dd7e8e45-d533-42bb-8da3-a7fa6db80b36\" class=\"colab-df-container\">\n",
              "    <div>\n",
              "<style scoped>\n",
              "    .dataframe tbody tr th:only-of-type {\n",
              "        vertical-align: middle;\n",
              "    }\n",
              "\n",
              "    .dataframe tbody tr th {\n",
              "        vertical-align: top;\n",
              "    }\n",
              "\n",
              "    .dataframe thead th {\n",
              "        text-align: right;\n",
              "    }\n",
              "</style>\n",
              "<table border=\"1\" class=\"dataframe\">\n",
              "  <thead>\n",
              "    <tr style=\"text-align: right;\">\n",
              "      <th></th>\n",
              "      <th>model_name</th>\n",
              "      <th>model_loss</th>\n",
              "      <th>model_accuracy</th>\n",
              "      <th>model_f1_Score</th>\n",
              "    </tr>\n",
              "  </thead>\n",
              "  <tbody>\n",
              "    <tr>\n",
              "      <th>0</th>\n",
              "      <td>FashionMNISTModelV0</td>\n",
              "      <td>0.483762</td>\n",
              "      <td>82.997204</td>\n",
              "      <td>0.794802</td>\n",
              "    </tr>\n",
              "    <tr>\n",
              "      <th>1</th>\n",
              "      <td>FashionMNISTModelV1</td>\n",
              "      <td>0.410757</td>\n",
              "      <td>85.223642</td>\n",
              "      <td>0.822209</td>\n",
              "    </tr>\n",
              "    <tr>\n",
              "      <th>2</th>\n",
              "      <td>FashionMNISTModelV2</td>\n",
              "      <td>0.279545</td>\n",
              "      <td>90.105831</td>\n",
              "      <td>0.878215</td>\n",
              "    </tr>\n",
              "  </tbody>\n",
              "</table>\n",
              "</div>\n",
              "    <div class=\"colab-df-buttons\">\n",
              "\n",
              "  <div class=\"colab-df-container\">\n",
              "    <button class=\"colab-df-convert\" onclick=\"convertToInteractive('df-dd7e8e45-d533-42bb-8da3-a7fa6db80b36')\"\n",
              "            title=\"Convert this dataframe to an interactive table.\"\n",
              "            style=\"display:none;\">\n",
              "\n",
              "  <svg xmlns=\"http://www.w3.org/2000/svg\" height=\"24px\" viewBox=\"0 -960 960 960\">\n",
              "    <path d=\"M120-120v-720h720v720H120Zm60-500h600v-160H180v160Zm220 220h160v-160H400v160Zm0 220h160v-160H400v160ZM180-400h160v-160H180v160Zm440 0h160v-160H620v160ZM180-180h160v-160H180v160Zm440 0h160v-160H620v160Z\"/>\n",
              "  </svg>\n",
              "    </button>\n",
              "\n",
              "  <style>\n",
              "    .colab-df-container {\n",
              "      display:flex;\n",
              "      gap: 12px;\n",
              "    }\n",
              "\n",
              "    .colab-df-convert {\n",
              "      background-color: #E8F0FE;\n",
              "      border: none;\n",
              "      border-radius: 50%;\n",
              "      cursor: pointer;\n",
              "      display: none;\n",
              "      fill: #1967D2;\n",
              "      height: 32px;\n",
              "      padding: 0 0 0 0;\n",
              "      width: 32px;\n",
              "    }\n",
              "\n",
              "    .colab-df-convert:hover {\n",
              "      background-color: #E2EBFA;\n",
              "      box-shadow: 0px 1px 2px rgba(60, 64, 67, 0.3), 0px 1px 3px 1px rgba(60, 64, 67, 0.15);\n",
              "      fill: #174EA6;\n",
              "    }\n",
              "\n",
              "    .colab-df-buttons div {\n",
              "      margin-bottom: 4px;\n",
              "    }\n",
              "\n",
              "    [theme=dark] .colab-df-convert {\n",
              "      background-color: #3B4455;\n",
              "      fill: #D2E3FC;\n",
              "    }\n",
              "\n",
              "    [theme=dark] .colab-df-convert:hover {\n",
              "      background-color: #434B5C;\n",
              "      box-shadow: 0px 1px 3px 1px rgba(0, 0, 0, 0.15);\n",
              "      filter: drop-shadow(0px 1px 2px rgba(0, 0, 0, 0.3));\n",
              "      fill: #FFFFFF;\n",
              "    }\n",
              "  </style>\n",
              "\n",
              "    <script>\n",
              "      const buttonEl =\n",
              "        document.querySelector('#df-dd7e8e45-d533-42bb-8da3-a7fa6db80b36 button.colab-df-convert');\n",
              "      buttonEl.style.display =\n",
              "        google.colab.kernel.accessAllowed ? 'block' : 'none';\n",
              "\n",
              "      async function convertToInteractive(key) {\n",
              "        const element = document.querySelector('#df-dd7e8e45-d533-42bb-8da3-a7fa6db80b36');\n",
              "        const dataTable =\n",
              "          await google.colab.kernel.invokeFunction('convertToInteractive',\n",
              "                                                    [key], {});\n",
              "        if (!dataTable) return;\n",
              "\n",
              "        const docLinkHtml = 'Like what you see? Visit the ' +\n",
              "          '<a target=\"_blank\" href=https://colab.research.google.com/notebooks/data_table.ipynb>data table notebook</a>'\n",
              "          + ' to learn more about interactive tables.';\n",
              "        element.innerHTML = '';\n",
              "        dataTable['output_type'] = 'display_data';\n",
              "        await google.colab.output.renderOutput(dataTable, element);\n",
              "        const docLink = document.createElement('div');\n",
              "        docLink.innerHTML = docLinkHtml;\n",
              "        element.appendChild(docLink);\n",
              "      }\n",
              "    </script>\n",
              "  </div>\n",
              "\n",
              "\n",
              "<div id=\"df-a1538549-19aa-4d6c-98ae-95344b22c06f\">\n",
              "  <button class=\"colab-df-quickchart\" onclick=\"quickchart('df-a1538549-19aa-4d6c-98ae-95344b22c06f')\"\n",
              "            title=\"Suggest charts.\"\n",
              "            style=\"display:none;\">\n",
              "\n",
              "<svg xmlns=\"http://www.w3.org/2000/svg\" height=\"24px\"viewBox=\"0 0 24 24\"\n",
              "     width=\"24px\">\n",
              "    <g>\n",
              "        <path d=\"M19 3H5c-1.1 0-2 .9-2 2v14c0 1.1.9 2 2 2h14c1.1 0 2-.9 2-2V5c0-1.1-.9-2-2-2zM9 17H7v-7h2v7zm4 0h-2V7h2v10zm4 0h-2v-4h2v4z\"/>\n",
              "    </g>\n",
              "</svg>\n",
              "  </button>\n",
              "\n",
              "<style>\n",
              "  .colab-df-quickchart {\n",
              "      --bg-color: #E8F0FE;\n",
              "      --fill-color: #1967D2;\n",
              "      --hover-bg-color: #E2EBFA;\n",
              "      --hover-fill-color: #174EA6;\n",
              "      --disabled-fill-color: #AAA;\n",
              "      --disabled-bg-color: #DDD;\n",
              "  }\n",
              "\n",
              "  [theme=dark] .colab-df-quickchart {\n",
              "      --bg-color: #3B4455;\n",
              "      --fill-color: #D2E3FC;\n",
              "      --hover-bg-color: #434B5C;\n",
              "      --hover-fill-color: #FFFFFF;\n",
              "      --disabled-bg-color: #3B4455;\n",
              "      --disabled-fill-color: #666;\n",
              "  }\n",
              "\n",
              "  .colab-df-quickchart {\n",
              "    background-color: var(--bg-color);\n",
              "    border: none;\n",
              "    border-radius: 50%;\n",
              "    cursor: pointer;\n",
              "    display: none;\n",
              "    fill: var(--fill-color);\n",
              "    height: 32px;\n",
              "    padding: 0;\n",
              "    width: 32px;\n",
              "  }\n",
              "\n",
              "  .colab-df-quickchart:hover {\n",
              "    background-color: var(--hover-bg-color);\n",
              "    box-shadow: 0 1px 2px rgba(60, 64, 67, 0.3), 0 1px 3px 1px rgba(60, 64, 67, 0.15);\n",
              "    fill: var(--button-hover-fill-color);\n",
              "  }\n",
              "\n",
              "  .colab-df-quickchart-complete:disabled,\n",
              "  .colab-df-quickchart-complete:disabled:hover {\n",
              "    background-color: var(--disabled-bg-color);\n",
              "    fill: var(--disabled-fill-color);\n",
              "    box-shadow: none;\n",
              "  }\n",
              "\n",
              "  .colab-df-spinner {\n",
              "    border: 2px solid var(--fill-color);\n",
              "    border-color: transparent;\n",
              "    border-bottom-color: var(--fill-color);\n",
              "    animation:\n",
              "      spin 1s steps(1) infinite;\n",
              "  }\n",
              "\n",
              "  @keyframes spin {\n",
              "    0% {\n",
              "      border-color: transparent;\n",
              "      border-bottom-color: var(--fill-color);\n",
              "      border-left-color: var(--fill-color);\n",
              "    }\n",
              "    20% {\n",
              "      border-color: transparent;\n",
              "      border-left-color: var(--fill-color);\n",
              "      border-top-color: var(--fill-color);\n",
              "    }\n",
              "    30% {\n",
              "      border-color: transparent;\n",
              "      border-left-color: var(--fill-color);\n",
              "      border-top-color: var(--fill-color);\n",
              "      border-right-color: var(--fill-color);\n",
              "    }\n",
              "    40% {\n",
              "      border-color: transparent;\n",
              "      border-right-color: var(--fill-color);\n",
              "      border-top-color: var(--fill-color);\n",
              "    }\n",
              "    60% {\n",
              "      border-color: transparent;\n",
              "      border-right-color: var(--fill-color);\n",
              "    }\n",
              "    80% {\n",
              "      border-color: transparent;\n",
              "      border-right-color: var(--fill-color);\n",
              "      border-bottom-color: var(--fill-color);\n",
              "    }\n",
              "    90% {\n",
              "      border-color: transparent;\n",
              "      border-bottom-color: var(--fill-color);\n",
              "    }\n",
              "  }\n",
              "</style>\n",
              "\n",
              "  <script>\n",
              "    async function quickchart(key) {\n",
              "      const quickchartButtonEl =\n",
              "        document.querySelector('#' + key + ' button');\n",
              "      quickchartButtonEl.disabled = true;  // To prevent multiple clicks.\n",
              "      quickchartButtonEl.classList.add('colab-df-spinner');\n",
              "      try {\n",
              "        const charts = await google.colab.kernel.invokeFunction(\n",
              "            'suggestCharts', [key], {});\n",
              "      } catch (error) {\n",
              "        console.error('Error during call to suggestCharts:', error);\n",
              "      }\n",
              "      quickchartButtonEl.classList.remove('colab-df-spinner');\n",
              "      quickchartButtonEl.classList.add('colab-df-quickchart-complete');\n",
              "    }\n",
              "    (() => {\n",
              "      let quickchartButtonEl =\n",
              "        document.querySelector('#df-a1538549-19aa-4d6c-98ae-95344b22c06f button');\n",
              "      quickchartButtonEl.style.display =\n",
              "        google.colab.kernel.accessAllowed ? 'block' : 'none';\n",
              "    })();\n",
              "  </script>\n",
              "</div>\n",
              "    </div>\n",
              "  </div>\n"
            ]
          },
          "metadata": {},
          "execution_count": 44
        }
      ]
    },
    {
      "cell_type": "code",
      "source": [
        "# Add Training time to results comparison\n",
        "compare_results['training_time'] = [32.00255365200002,\n",
        "                                    total_train_time,\n",
        "                                    model2_train_time]"
      ],
      "metadata": {
        "id": "kNKYsV20YUlX"
      },
      "execution_count": 45,
      "outputs": []
    },
    {
      "cell_type": "code",
      "source": [
        "compare_results"
      ],
      "metadata": {
        "colab": {
          "base_uri": "https://localhost:8080/",
          "height": 143
        },
        "id": "kkw8Hc2_YuQ1",
        "outputId": "866b8305-644f-4a86-caf1-539ec332ef44"
      },
      "execution_count": 46,
      "outputs": [
        {
          "output_type": "execute_result",
          "data": {
            "text/plain": [
              "            model_name  model_loss  model_accuracy  model_f1_Score  \\\n",
              "0  FashionMNISTModelV0    0.483762       82.997204        0.794802   \n",
              "1  FashionMNISTModelV1    0.410757       85.223642        0.822209   \n",
              "2  FashionMNISTModelV2    0.279545       90.105831        0.878215   \n",
              "\n",
              "   training_time  \n",
              "0      32.002554  \n",
              "1      41.634589  \n",
              "2      37.587208  "
            ],
            "text/html": [
              "\n",
              "  <div id=\"df-63d64522-7bd6-47ba-a53d-9466b8412ebe\" class=\"colab-df-container\">\n",
              "    <div>\n",
              "<style scoped>\n",
              "    .dataframe tbody tr th:only-of-type {\n",
              "        vertical-align: middle;\n",
              "    }\n",
              "\n",
              "    .dataframe tbody tr th {\n",
              "        vertical-align: top;\n",
              "    }\n",
              "\n",
              "    .dataframe thead th {\n",
              "        text-align: right;\n",
              "    }\n",
              "</style>\n",
              "<table border=\"1\" class=\"dataframe\">\n",
              "  <thead>\n",
              "    <tr style=\"text-align: right;\">\n",
              "      <th></th>\n",
              "      <th>model_name</th>\n",
              "      <th>model_loss</th>\n",
              "      <th>model_accuracy</th>\n",
              "      <th>model_f1_Score</th>\n",
              "      <th>training_time</th>\n",
              "    </tr>\n",
              "  </thead>\n",
              "  <tbody>\n",
              "    <tr>\n",
              "      <th>0</th>\n",
              "      <td>FashionMNISTModelV0</td>\n",
              "      <td>0.483762</td>\n",
              "      <td>82.997204</td>\n",
              "      <td>0.794802</td>\n",
              "      <td>32.002554</td>\n",
              "    </tr>\n",
              "    <tr>\n",
              "      <th>1</th>\n",
              "      <td>FashionMNISTModelV1</td>\n",
              "      <td>0.410757</td>\n",
              "      <td>85.223642</td>\n",
              "      <td>0.822209</td>\n",
              "      <td>41.634589</td>\n",
              "    </tr>\n",
              "    <tr>\n",
              "      <th>2</th>\n",
              "      <td>FashionMNISTModelV2</td>\n",
              "      <td>0.279545</td>\n",
              "      <td>90.105831</td>\n",
              "      <td>0.878215</td>\n",
              "      <td>37.587208</td>\n",
              "    </tr>\n",
              "  </tbody>\n",
              "</table>\n",
              "</div>\n",
              "    <div class=\"colab-df-buttons\">\n",
              "\n",
              "  <div class=\"colab-df-container\">\n",
              "    <button class=\"colab-df-convert\" onclick=\"convertToInteractive('df-63d64522-7bd6-47ba-a53d-9466b8412ebe')\"\n",
              "            title=\"Convert this dataframe to an interactive table.\"\n",
              "            style=\"display:none;\">\n",
              "\n",
              "  <svg xmlns=\"http://www.w3.org/2000/svg\" height=\"24px\" viewBox=\"0 -960 960 960\">\n",
              "    <path d=\"M120-120v-720h720v720H120Zm60-500h600v-160H180v160Zm220 220h160v-160H400v160Zm0 220h160v-160H400v160ZM180-400h160v-160H180v160Zm440 0h160v-160H620v160ZM180-180h160v-160H180v160Zm440 0h160v-160H620v160Z\"/>\n",
              "  </svg>\n",
              "    </button>\n",
              "\n",
              "  <style>\n",
              "    .colab-df-container {\n",
              "      display:flex;\n",
              "      gap: 12px;\n",
              "    }\n",
              "\n",
              "    .colab-df-convert {\n",
              "      background-color: #E8F0FE;\n",
              "      border: none;\n",
              "      border-radius: 50%;\n",
              "      cursor: pointer;\n",
              "      display: none;\n",
              "      fill: #1967D2;\n",
              "      height: 32px;\n",
              "      padding: 0 0 0 0;\n",
              "      width: 32px;\n",
              "    }\n",
              "\n",
              "    .colab-df-convert:hover {\n",
              "      background-color: #E2EBFA;\n",
              "      box-shadow: 0px 1px 2px rgba(60, 64, 67, 0.3), 0px 1px 3px 1px rgba(60, 64, 67, 0.15);\n",
              "      fill: #174EA6;\n",
              "    }\n",
              "\n",
              "    .colab-df-buttons div {\n",
              "      margin-bottom: 4px;\n",
              "    }\n",
              "\n",
              "    [theme=dark] .colab-df-convert {\n",
              "      background-color: #3B4455;\n",
              "      fill: #D2E3FC;\n",
              "    }\n",
              "\n",
              "    [theme=dark] .colab-df-convert:hover {\n",
              "      background-color: #434B5C;\n",
              "      box-shadow: 0px 1px 3px 1px rgba(0, 0, 0, 0.15);\n",
              "      filter: drop-shadow(0px 1px 2px rgba(0, 0, 0, 0.3));\n",
              "      fill: #FFFFFF;\n",
              "    }\n",
              "  </style>\n",
              "\n",
              "    <script>\n",
              "      const buttonEl =\n",
              "        document.querySelector('#df-63d64522-7bd6-47ba-a53d-9466b8412ebe button.colab-df-convert');\n",
              "      buttonEl.style.display =\n",
              "        google.colab.kernel.accessAllowed ? 'block' : 'none';\n",
              "\n",
              "      async function convertToInteractive(key) {\n",
              "        const element = document.querySelector('#df-63d64522-7bd6-47ba-a53d-9466b8412ebe');\n",
              "        const dataTable =\n",
              "          await google.colab.kernel.invokeFunction('convertToInteractive',\n",
              "                                                    [key], {});\n",
              "        if (!dataTable) return;\n",
              "\n",
              "        const docLinkHtml = 'Like what you see? Visit the ' +\n",
              "          '<a target=\"_blank\" href=https://colab.research.google.com/notebooks/data_table.ipynb>data table notebook</a>'\n",
              "          + ' to learn more about interactive tables.';\n",
              "        element.innerHTML = '';\n",
              "        dataTable['output_type'] = 'display_data';\n",
              "        await google.colab.output.renderOutput(dataTable, element);\n",
              "        const docLink = document.createElement('div');\n",
              "        docLink.innerHTML = docLinkHtml;\n",
              "        element.appendChild(docLink);\n",
              "      }\n",
              "    </script>\n",
              "  </div>\n",
              "\n",
              "\n",
              "<div id=\"df-75f5655e-51ac-4418-b0cf-e70ae94b6410\">\n",
              "  <button class=\"colab-df-quickchart\" onclick=\"quickchart('df-75f5655e-51ac-4418-b0cf-e70ae94b6410')\"\n",
              "            title=\"Suggest charts.\"\n",
              "            style=\"display:none;\">\n",
              "\n",
              "<svg xmlns=\"http://www.w3.org/2000/svg\" height=\"24px\"viewBox=\"0 0 24 24\"\n",
              "     width=\"24px\">\n",
              "    <g>\n",
              "        <path d=\"M19 3H5c-1.1 0-2 .9-2 2v14c0 1.1.9 2 2 2h14c1.1 0 2-.9 2-2V5c0-1.1-.9-2-2-2zM9 17H7v-7h2v7zm4 0h-2V7h2v10zm4 0h-2v-4h2v4z\"/>\n",
              "    </g>\n",
              "</svg>\n",
              "  </button>\n",
              "\n",
              "<style>\n",
              "  .colab-df-quickchart {\n",
              "      --bg-color: #E8F0FE;\n",
              "      --fill-color: #1967D2;\n",
              "      --hover-bg-color: #E2EBFA;\n",
              "      --hover-fill-color: #174EA6;\n",
              "      --disabled-fill-color: #AAA;\n",
              "      --disabled-bg-color: #DDD;\n",
              "  }\n",
              "\n",
              "  [theme=dark] .colab-df-quickchart {\n",
              "      --bg-color: #3B4455;\n",
              "      --fill-color: #D2E3FC;\n",
              "      --hover-bg-color: #434B5C;\n",
              "      --hover-fill-color: #FFFFFF;\n",
              "      --disabled-bg-color: #3B4455;\n",
              "      --disabled-fill-color: #666;\n",
              "  }\n",
              "\n",
              "  .colab-df-quickchart {\n",
              "    background-color: var(--bg-color);\n",
              "    border: none;\n",
              "    border-radius: 50%;\n",
              "    cursor: pointer;\n",
              "    display: none;\n",
              "    fill: var(--fill-color);\n",
              "    height: 32px;\n",
              "    padding: 0;\n",
              "    width: 32px;\n",
              "  }\n",
              "\n",
              "  .colab-df-quickchart:hover {\n",
              "    background-color: var(--hover-bg-color);\n",
              "    box-shadow: 0 1px 2px rgba(60, 64, 67, 0.3), 0 1px 3px 1px rgba(60, 64, 67, 0.15);\n",
              "    fill: var(--button-hover-fill-color);\n",
              "  }\n",
              "\n",
              "  .colab-df-quickchart-complete:disabled,\n",
              "  .colab-df-quickchart-complete:disabled:hover {\n",
              "    background-color: var(--disabled-bg-color);\n",
              "    fill: var(--disabled-fill-color);\n",
              "    box-shadow: none;\n",
              "  }\n",
              "\n",
              "  .colab-df-spinner {\n",
              "    border: 2px solid var(--fill-color);\n",
              "    border-color: transparent;\n",
              "    border-bottom-color: var(--fill-color);\n",
              "    animation:\n",
              "      spin 1s steps(1) infinite;\n",
              "  }\n",
              "\n",
              "  @keyframes spin {\n",
              "    0% {\n",
              "      border-color: transparent;\n",
              "      border-bottom-color: var(--fill-color);\n",
              "      border-left-color: var(--fill-color);\n",
              "    }\n",
              "    20% {\n",
              "      border-color: transparent;\n",
              "      border-left-color: var(--fill-color);\n",
              "      border-top-color: var(--fill-color);\n",
              "    }\n",
              "    30% {\n",
              "      border-color: transparent;\n",
              "      border-left-color: var(--fill-color);\n",
              "      border-top-color: var(--fill-color);\n",
              "      border-right-color: var(--fill-color);\n",
              "    }\n",
              "    40% {\n",
              "      border-color: transparent;\n",
              "      border-right-color: var(--fill-color);\n",
              "      border-top-color: var(--fill-color);\n",
              "    }\n",
              "    60% {\n",
              "      border-color: transparent;\n",
              "      border-right-color: var(--fill-color);\n",
              "    }\n",
              "    80% {\n",
              "      border-color: transparent;\n",
              "      border-right-color: var(--fill-color);\n",
              "      border-bottom-color: var(--fill-color);\n",
              "    }\n",
              "    90% {\n",
              "      border-color: transparent;\n",
              "      border-bottom-color: var(--fill-color);\n",
              "    }\n",
              "  }\n",
              "</style>\n",
              "\n",
              "  <script>\n",
              "    async function quickchart(key) {\n",
              "      const quickchartButtonEl =\n",
              "        document.querySelector('#' + key + ' button');\n",
              "      quickchartButtonEl.disabled = true;  // To prevent multiple clicks.\n",
              "      quickchartButtonEl.classList.add('colab-df-spinner');\n",
              "      try {\n",
              "        const charts = await google.colab.kernel.invokeFunction(\n",
              "            'suggestCharts', [key], {});\n",
              "      } catch (error) {\n",
              "        console.error('Error during call to suggestCharts:', error);\n",
              "      }\n",
              "      quickchartButtonEl.classList.remove('colab-df-spinner');\n",
              "      quickchartButtonEl.classList.add('colab-df-quickchart-complete');\n",
              "    }\n",
              "    (() => {\n",
              "      let quickchartButtonEl =\n",
              "        document.querySelector('#df-75f5655e-51ac-4418-b0cf-e70ae94b6410 button');\n",
              "      quickchartButtonEl.style.display =\n",
              "        google.colab.kernel.accessAllowed ? 'block' : 'none';\n",
              "    })();\n",
              "  </script>\n",
              "</div>\n",
              "    </div>\n",
              "  </div>\n"
            ]
          },
          "metadata": {},
          "execution_count": 46
        }
      ]
    },
    {
      "cell_type": "code",
      "source": [
        "## Visualize model results\n",
        "compare_results.set_index(\"model_name\")['model_accuracy'].plot(kind='barh')\n",
        "plt.xlabel('Accuracy')\n",
        "plt.ylabel('Model Name')\n",
        "plt.grid()\n",
        "plt.show()"
      ],
      "metadata": {
        "colab": {
          "base_uri": "https://localhost:8080/",
          "height": 449
        },
        "id": "AV4SNhXhYvem",
        "outputId": "59b9f3de-ada1-4cb4-dc65-66632cf04435"
      },
      "execution_count": 47,
      "outputs": [
        {
          "output_type": "display_data",
          "data": {
            "text/plain": [
              "<Figure size 640x480 with 1 Axes>"
            ],
            "image/png": "[encoded data removed]"
          },
          "metadata": {}
        }
      ]
    },
    {
      "cell_type": "markdown",
      "source": [
        "## Make and evaluate random predictions with best model"
      ],
      "metadata": {
        "id": "QYFvb-udZhuB"
      }
    },
    {
      "cell_type": "code",
      "source": [
        "def make_predictions(model: torch.nn.Module,\n",
        "                     data: list,\n",
        "                     device:str=device):\n",
        "  pred_probs = []\n",
        "  model.to(device)\n",
        "  model.eval()\n",
        "  with torch.inference_mode():\n",
        "    for sample in data:\n",
        "      # sample  = image\n",
        "      sample = torch.unsqueeze(torch.tensor(sample), dim=0).to(device)\n",
        "      # Forward pass\n",
        "      y_logits = model(sample)\n",
        "\n",
        "      # get probabilities\n",
        "      y_probs = torch.softmax(y_logits, dim=1).to(device)\n",
        "\n",
        "      # Append probabilties to pred_probs\n",
        "      pred_probs.append(y_probs)\n",
        "\n",
        "  return torch.stack(pred_probs)"
      ],
      "metadata": {
        "id": "C290Sql0ZOX_"
      },
      "execution_count": 48,
      "outputs": []
    },
    {
      "cell_type": "code",
      "source": [
        "img, label = list(test_data)[0]\n",
        "img.shape, label"
      ],
      "metadata": {
        "colab": {
          "base_uri": "https://localhost:8080/"
        },
        "id": "LOGiBd_bbo14",
        "outputId": "a41decca-7a81-4720-f47b-f8d56726490c"
      },
      "execution_count": 49,
      "outputs": [
        {
          "output_type": "execute_result",
          "data": {
            "text/plain": [
              "(torch.Size([1, 28, 28]), 9)"
            ]
          },
          "metadata": {},
          "execution_count": 49
        }
      ]
    },
    {
      "cell_type": "code",
      "source": [
        "import random\n",
        "random.seed(42)\n",
        "\n",
        "test_samples = []\n",
        "test_labels = []\n",
        "\n",
        "for sample, label in random.sample(list(test_data), k=9):\n",
        "  test_samples.append(sample)\n",
        "  test_labels.append(label)\n",
        "\n",
        "test_samples[0].shape, test_labels[0]"
      ],
      "metadata": {
        "colab": {
          "base_uri": "https://localhost:8080/"
        },
        "id": "DjmfQzDvbP-9",
        "outputId": "ad017ee0-036b-4e71-8a69-a1a550e2c557"
      },
      "execution_count": 50,
      "outputs": [
        {
          "output_type": "execute_result",
          "data": {
            "text/plain": [
              "(torch.Size([1, 28, 28]), 5)"
            ]
          },
          "metadata": {},
          "execution_count": 50
        }
      ]
    },
    {
      "cell_type": "code",
      "source": [
        "plt.imshow(test_samples[0].squeeze(), cmap='gray')\n",
        "plt.title(class_names[test_labels[0]])\n",
        "plt.axis('off')"
      ],
      "metadata": {
        "colab": {
          "base_uri": "https://localhost:8080/",
          "height": 445
        },
        "id": "SiPQnd-pb9cO",
        "outputId": "d54e41ee-d6dd-422a-a837-4c9e56c1b438"
      },
      "execution_count": 51,
      "outputs": [
        {
          "output_type": "execute_result",
          "data": {
            "text/plain": [
              "(-0.5, 27.5, 27.5, -0.5)"
            ]
          },
          "metadata": {},
          "execution_count": 51
        },
        {
          "output_type": "display_data",
          "data": {
            "text/plain": [
              "<Figure size 640x480 with 1 Axes>"
            ],
            "image/png": "[encoded data removed]"
          },
          "metadata": {}
        }
      ]
    },
    {
      "cell_type": "code",
      "source": [
        "# Make predictions\n",
        "pred_probs = make_predictions(model=model_2,\n",
        "                              data=test_samples)\n",
        "\n",
        "pred_probs[0], pred_probs.shape"
      ],
      "metadata": {
        "colab": {
          "base_uri": "https://localhost:8080/"
        },
        "id": "pvRNBDtwccFe",
        "outputId": "227d4e86-94af-400e-fe6d-8e872d86c6d4"
      },
      "execution_count": 52,
      "outputs": [
        {
          "output_type": "stream",
          "name": "stderr",
          "text": [
            "<ipython-input-48-9161b58856e3>:10: UserWarning: To copy construct from a tensor, it is recommended to use sourceTensor.clone().detach() or sourceTensor.clone().detach().requires_grad_(True), rather than torch.tensor(sourceTensor).\n",
            "  sample = torch.unsqueeze(torch.tensor(sample), dim=0).to(device)\n"
          ]
        },
        {
          "output_type": "execute_result",
          "data": {
            "text/plain": [
              "(tensor([[2.5815e-08, 6.7200e-10, 3.8644e-10, 6.0391e-10, 9.0709e-10, 9.9993e-01,\n",
              "          5.2999e-07, 2.8603e-07, 1.5371e-08, 6.6952e-05]], device='cuda:0'),\n",
              " torch.Size([9, 1, 10]))"
            ]
          },
          "metadata": {},
          "execution_count": 52
        }
      ]
    },
    {
      "cell_type": "code",
      "source": [
        "test_predictions = torch.argmax(pred_probs, dim=2).squeeze()\n",
        "test_predictions"
      ],
      "metadata": {
        "colab": {
          "base_uri": "https://localhost:8080/"
        },
        "id": "gUCANGQ89dEM",
        "outputId": "c2856623-5c1a-426f-f0c8-5a6bc165b5ba"
      },
      "execution_count": 66,
      "outputs": [
        {
          "output_type": "execute_result",
          "data": {
            "text/plain": [
              "tensor([5, 1, 7, 4, 3, 0, 4, 7, 1], device='cuda:0')"
            ]
          },
          "metadata": {},
          "execution_count": 66
        }
      ]
    },
    {
      "cell_type": "code",
      "source": [
        "plt.figure(figsize=(9, 9))\n",
        "\n",
        "nrows=3\n",
        "ncols=3\n",
        "\n",
        "for i, sample in enumerate(test_samples):\n",
        "  plt.subplot(nrows, ncols, i+1)\n",
        "  plt.imshow(sample.squeeze(), cmap='gray')\n",
        "\n",
        "  truth_label = test_labels[i]\n",
        "  probs = torch.max(pred_probs[i]).item()\n",
        "  class_name = class_names[test_predictions[i]]\n",
        "\n",
        "  title_text = f'{class_name} | Probs: {probs:.2f}'\n",
        "  if test_predictions[i] == test_labels[i]:\n",
        "    plt.title(title_text, c='green')\n",
        "  else:\n",
        "    plt.title(title_text, c='red')\n",
        "  plt.axis('off')"
      ],
      "metadata": {
        "colab": {
          "base_uri": "https://localhost:8080/",
          "height": 752
        },
        "id": "3-rQ5uqydHJf",
        "outputId": "7f64b7ea-5dfd-4788-9dd0-c1eb212dc4fe"
      },
      "execution_count": 69,
      "outputs": [
        {
          "output_type": "display_data",
          "data": {
            "text/plain": [
              "<Figure size 900x900 with 9 Axes>"
            ],
            "image/png": "[encoded data removed]"
          },
          "metadata": {}
        }
      ]
    },
    {
      "cell_type": "markdown",
      "source": [
        "## Making a confusion matrix for further prediction evaluation"
      ],
      "metadata": {
        "id": "trPZ6WDXg9ln"
      }
    },
    {
      "cell_type": "code",
      "source": [
        "# Making predictions with our Model 2 (CNN)\n",
        "y_preds = []\n",
        "model_2.eval()\n",
        "with torch.inference_mode():\n",
        "  for X, y in tqdm(test_dataloader, desc=\"Making predictions\"):\n",
        "    X, y = X.to(device), y.to(device)\n",
        "    y_logits = model_2(X)\n",
        "    y_pred = torch.argmax(torch.softmax(y_logits, dim=1), dim=1)\n",
        "    y_preds.extend(list(y_pred.cpu()))\n",
        "\n",
        "y_preds = torch.tensor(y_preds)\n",
        "y_preds[:5], y_preds.shape"
      ],
      "metadata": {
        "colab": {
          "base_uri": "https://localhost:8080/"
        },
        "id": "elkMmxMJgsT3",
        "outputId": "760844dd-b859-4d70-f001-7189ca048d08"
      },
      "execution_count": 54,
      "outputs": [
        {
          "output_type": "stream",
          "name": "stderr",
          "text": [
            "Making predictions: 100%|██████████| 313/313 [00:01<00:00, 212.42it/s]\n"
          ]
        },
        {
          "output_type": "execute_result",
          "data": {
            "text/plain": [
              "(tensor([9, 2, 1, 1, 6]), torch.Size([10000]))"
            ]
          },
          "metadata": {},
          "execution_count": 54
        }
      ]
    },
    {
      "cell_type": "code",
      "source": [
        "from torchmetrics import ConfusionMatrix\n",
        "confmat = ConfusionMatrix(task='MULTICLASS', num_classes=10)\n",
        "matrix = confmat(y_preds, test_data.targets)\n",
        "matrix"
      ],
      "metadata": {
        "colab": {
          "base_uri": "https://localhost:8080/"
        },
        "id": "iiwp2mz2iusI",
        "outputId": "ae7ff5b3-f18e-4d9b-eb28-f9beeb66ced7"
      },
      "execution_count": 55,
      "outputs": [
        {
          "output_type": "execute_result",
          "data": {
            "text/plain": [
              "tensor([[915,   3,  12,  24,   4,   1,  38,   0,   3,   0],\n",
              "        [  1, 986,   0,  10,   2,   0,   1,   0,   0,   0],\n",
              "        [ 19,   2, 851,  12,  68,   0,  48,   0,   0,   0],\n",
              "        [ 19,   3,   8, 925,  29,   0,  15,   0,   1,   0],\n",
              "        [  0,   2,  49,  27, 823,   0,  99,   0,   0,   0],\n",
              "        [  0,   0,   0,   0,   0, 976,   0,  12,   0,  12],\n",
              "        [218,   3,  70,  33,  46,   0, 627,   0,   3,   0],\n",
              "        [  0,   0,   0,   0,   0,   8,   0, 972,   1,  19],\n",
              "        [  6,   2,   4,   3,   5,   1,   4,   1, 974,   0],\n",
              "        [  1,   0,   0,   0,   0,   5,   0,  32,   0, 962]])"
            ]
          },
          "metadata": {},
          "execution_count": 55
        }
      ]
    },
    {
      "cell_type": "code",
      "source": [
        "import torchmetrics, mlxtend\n",
        "print(f\"mlxtend version: {mlxtend.__version__}\")"
      ],
      "metadata": {
        "colab": {
          "base_uri": "https://localhost:8080/"
        },
        "id": "yg4hhJZcjKsf",
        "outputId": "e1584f56-4da6-42e9-d8a6-bfc2ac161476"
      },
      "execution_count": 56,
      "outputs": [
        {
          "output_type": "stream",
          "name": "stdout",
          "text": [
            "mlxtend version: 0.22.0\n"
          ]
        }
      ]
    },
    {
      "cell_type": "code",
      "source": [
        "# Plotting our confusion matrix\n",
        "from mlxtend.plotting import plot_confusion_matrix\n",
        "fig, ax = plot_confusion_matrix(conf_mat=matrix.numpy(),\n",
        "                                colorbar=True,\n",
        "                                class_names=class_names,\n",
        "                                figsize=(10, 7))\n",
        "plt.show()"
      ],
      "metadata": {
        "colab": {
          "base_uri": "https://localhost:8080/",
          "height": 667
        },
        "id": "Zo59ker0oCdM",
        "outputId": "c8d9aafe-407e-43ac-bde8-1b535453a2f2"
      },
      "execution_count": 57,
      "outputs": [
        {
          "output_type": "display_data",
          "data": {
            "text/plain": [
              "<Figure size 1000x700 with 2 Axes>"
            ],
            "image/png": "[encoded data removed]"
          },
          "metadata": {}
        }
      ]
    },
    {
      "cell_type": "markdown",
      "source": [
        "## Saving and Re-loading our models"
      ],
      "metadata": {
        "id": "8e5AeCoYqr_e"
      }
    },
    {
      "cell_type": "code",
      "source": [
        "# Saving our model_2's (CNN) state_dict\n",
        "torch.save(model_2.state_dict(), 'FashionMNIST_cnn_model.pt')"
      ],
      "metadata": {
        "id": "BN1KK6FEpSbD"
      },
      "execution_count": 58,
      "outputs": []
    },
    {
      "cell_type": "code",
      "source": [
        "loaded_cnn_model = FashionMNISTModelV2().to(device)\n",
        "loaded_cnn_model.load_state_dict(torch.load('FashionMNIST_cnn_model.pt'))"
      ],
      "metadata": {
        "colab": {
          "base_uri": "https://localhost:8080/"
        },
        "id": "X6q70hTcrCPi",
        "outputId": "9955a573-de19-49f4-c2c5-ab32f8851d4a"
      },
      "execution_count": 59,
      "outputs": [
        {
          "output_type": "execute_result",
          "data": {
            "text/plain": [
              "<All keys matched successfully>"
            ]
          },
          "metadata": {},
          "execution_count": 59
        }
      ]
    },
    {
      "cell_type": "code",
      "source": [
        "loaded_cnn_model"
      ],
      "metadata": {
        "colab": {
          "base_uri": "https://localhost:8080/"
        },
        "id": "K4ErItG9rMuH",
        "outputId": "dab8dcbf-71d8-43db-ac9a-e5fc08ea7e39"
      },
      "execution_count": 60,
      "outputs": [
        {
          "output_type": "execute_result",
          "data": {
            "text/plain": [
              "FashionMNISTModelV2(\n",
              "  (conv_block1): Sequential(\n",
              "    (0): Conv2d(1, 32, kernel_size=(3, 3), stride=(1, 1), padding=(1, 1))\n",
              "    (1): ReLU()\n",
              "    (2): Conv2d(32, 32, kernel_size=(3, 3), stride=(1, 1), padding=(1, 1))\n",
              "    (3): ReLU()\n",
              "    (4): MaxPool2d(kernel_size=(2, 2), stride=2, padding=0, dilation=1, ceil_mode=False)\n",
              "  )\n",
              "  (conv_block2): Sequential(\n",
              "    (0): Conv2d(32, 32, kernel_size=(3, 3), stride=(1, 1), padding=(1, 1))\n",
              "    (1): ReLU()\n",
              "    (2): Conv2d(32, 32, kernel_size=(3, 3), stride=(1, 1), padding=(1, 1))\n",
              "    (3): ReLU()\n",
              "    (4): MaxPool2d(kernel_size=2, stride=2, padding=0, dilation=1, ceil_mode=False)\n",
              "  )\n",
              "  (classifier): Sequential(\n",
              "    (0): Flatten(start_dim=1, end_dim=-1)\n",
              "    (1): Linear(in_features=1568, out_features=64, bias=True)\n",
              "    (2): ReLU()\n",
              "    (3): Linear(in_features=64, out_features=32, bias=True)\n",
              "    (4): ReLU()\n",
              "    (5): Linear(in_features=32, out_features=10, bias=True)\n",
              "  )\n",
              ")"
            ]
          },
          "metadata": {},
          "execution_count": 60
        }
      ]
    },
    {
      "cell_type": "code",
      "source": [
        "# Making predictions with our Model 2 (CNN)\n",
        "loaded_y_preds = []\n",
        "model_2.eval()\n",
        "with torch.inference_mode():\n",
        "  for X, y in tqdm(test_dataloader, desc=\"Making predictions\"):\n",
        "    X, y = X.to(device), y.to(device)\n",
        "    y_logits = loaded_cnn_model(X)\n",
        "    y_pred = torch.argmax(torch.softmax(y_logits, dim=1), dim=1)\n",
        "    loaded_y_preds.extend(list(y_pred.cpu()))\n",
        "\n",
        "loaded_y_preds = torch.tensor(loaded_y_preds)\n",
        "loaded_y_preds[:5], y_preds.shape"
      ],
      "metadata": {
        "colab": {
          "base_uri": "https://localhost:8080/"
        },
        "id": "TfCg4xKFrQbF",
        "outputId": "a54045b9-28c5-42ca-f96d-408f7740c478"
      },
      "execution_count": 61,
      "outputs": [
        {
          "output_type": "stream",
          "name": "stderr",
          "text": [
            "Making predictions: 100%|██████████| 313/313 [00:01<00:00, 225.23it/s]\n"
          ]
        },
        {
          "output_type": "execute_result",
          "data": {
            "text/plain": [
              "(tensor([9, 2, 1, 1, 6]), torch.Size([10000]))"
            ]
          },
          "metadata": {},
          "execution_count": 61
        }
      ]
    },
    {
      "cell_type": "code",
      "source": [
        "loaded_y_preds == y_preds"
      ],
      "metadata": {
        "colab": {
          "base_uri": "https://localhost:8080/"
        },
        "id": "TkWjglqTrd9_",
        "outputId": "4e5d35de-eabc-4354-a0a6-e4ecac9295cc"
      },
      "execution_count": 62,
      "outputs": [
        {
          "output_type": "execute_result",
          "data": {
            "text/plain": [
              "tensor([True, True, True,  ..., True, True, True])"
            ]
          },
          "metadata": {},
          "execution_count": 62
        }
      ]
    }
  ]
}